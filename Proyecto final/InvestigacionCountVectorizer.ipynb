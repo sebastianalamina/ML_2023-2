{
  "cells": [
    {
      "attachments": {},
      "cell_type": "markdown",
      "metadata": {},
      "source": [
        "# ¿Por qué funciona CountVectorizer para \"Identificar\" noticias falsas?"
      ]
    },
    {
      "attachments": {},
      "cell_type": "markdown",
      "metadata": {
        "id": "Yj5OXfStHRAq"
      },
      "source": [
        "### Librerias Usadas.\n"
      ]
    },
    {
      "cell_type": "code",
      "execution_count": 1,
      "metadata": {
        "colab": {
          "base_uri": "https://localhost:8080/",
          "height": 87
        },
        "id": "wbLhTObWvAwO",
        "outputId": "e3b21aec-979b-497f-bb71-554423278cfb"
      },
      "outputs": [
        {
          "name": "stderr",
          "output_type": "stream",
          "text": [
            "2023-06-08 22:41:19.642721: I tensorflow/core/util/port.cc:110] oneDNN custom operations are on. You may see slightly different numerical results due to floating-point round-off errors from different computation orders. To turn them off, set the environment variable `TF_ENABLE_ONEDNN_OPTS=0`.\n",
            "2023-06-08 22:41:19.645952: I tensorflow/tsl/cuda/cudart_stub.cc:28] Could not find cuda drivers on your machine, GPU will not be used.\n",
            "2023-06-08 22:41:19.691137: I tensorflow/tsl/cuda/cudart_stub.cc:28] Could not find cuda drivers on your machine, GPU will not be used.\n",
            "2023-06-08 22:41:19.691918: I tensorflow/core/platform/cpu_feature_guard.cc:182] This TensorFlow binary is optimized to use available CPU instructions in performance-critical operations.\n",
            "To enable the following instructions: AVX2 AVX512F AVX512_VNNI FMA, in other operations, rebuild TensorFlow with the appropriate compiler flags.\n",
            "2023-06-08 22:41:20.320194: W tensorflow/compiler/tf2tensorrt/utils/py_utils.cc:38] TF-TRT Warning: Could not find TensorRT\n",
            "[nltk_data] Downloading package wordnet to /home/alexndf/nltk_data...\n",
            "[nltk_data]   Package wordnet is already up-to-date!\n",
            "[nltk_data] Downloading package punkt to /home/alexndf/nltk_data...\n",
            "[nltk_data]   Package punkt is already up-to-date!\n",
            "2023-06-08 22:41:21.099235: I tensorflow/compiler/xla/stream_executor/cuda/cuda_gpu_executor.cc:982] could not open file to read NUMA node: /sys/bus/pci/devices/0000:01:00.0/numa_node\n",
            "Your kernel may have been built without NUMA support.\n",
            "2023-06-08 22:41:21.099601: W tensorflow/core/common_runtime/gpu/gpu_device.cc:1956] Cannot dlopen some GPU libraries. Please make sure the missing libraries mentioned above are installed properly if you would like to use GPU. Follow the guide at https://www.tensorflow.org/install/gpu for how to download and setup the required libraries for your platform.\n",
            "Skipping registering GPU devices...\n"
          ]
        },
        {
          "data": {
            "text/plain": [
              "''"
            ]
          },
          "execution_count": 1,
          "metadata": {},
          "output_type": "execute_result"
        }
      ],
      "source": [
        "import pandas as pd\n",
        "import numpy as np\n",
        "import seaborn as sns\n",
        "import matplotlib.pyplot as plt\n",
        "import matplotlib.colors as mcolors\n",
        "from sklearn.model_selection import train_test_split\n",
        "from sklearn.metrics import accuracy_score, classification_report\n",
        "from sklearn.feature_extraction.text import TfidfVectorizer, CountVectorizer\n",
        "from sklearn.linear_model import LogisticRegression\n",
        "from sklearn.neighbors import KNeighborsClassifier\n",
        "from sklearn.decomposition import TruncatedSVD, PCA\n",
        "from gensim.parsing.preprocessing import remove_stopwords\n",
        "from gensim.models import Word2Vec\n",
        "from scipy.sparse import csr_matrix, hstack\n",
        "from nltk.stem import WordNetLemmatizer\n",
        "from nltk.tokenize import word_tokenize\n",
        "import tensorflow as tf\n",
        "import re, string, nltk\n",
        "from matplotlib_venn import venn2\n",
        "\n",
        "# Descarga de recursos\n",
        "nltk.download(\"wordnet\")\n",
        "nltk.download(\"punkt\")\n",
        "tf.test.gpu_device_name()"
      ]
    },
    {
      "attachments": {},
      "cell_type": "markdown",
      "metadata": {
        "id": "kiZdPaiEOU5P"
      },
      "source": [
        "## Lectura de los datos\n"
      ]
    },
    {
      "cell_type": "code",
      "execution_count": 2,
      "metadata": {},
      "outputs": [],
      "source": [
        "COLAB = False\n",
        "if COLAB:\n",
        "    from google.colab import drive\n",
        "\n",
        "    drive.mount(\"/content/drive\")\n",
        "    dataFake = pd.read_csv(\"/content/drive/MyDrive/Fake.csv\")\n",
        "    dataTrue = pd.read_csv(\"/content/drive/MyDrive/True.csv\")\n",
        "else:\n",
        "    dataFake = pd.read_csv(\"Fake.csv\")\n",
        "    dataTrue = pd.read_csv(\"True.csv\")\n"
      ]
    },
    {
      "cell_type": "code",
      "execution_count": 3,
      "metadata": {
        "colab": {
          "base_uri": "https://localhost:8080/"
        },
        "id": "_DcuAIZKwf8K",
        "outputId": "191ed04b-2445-4577-b912-c79b0957003f"
      },
      "outputs": [
        {
          "name": "stdout",
          "output_type": "stream",
          "text": [
            "Fake:  (23481, 5)\n",
            "True:  (21417, 5)\n",
            "All data:  (44898, 2)\n"
          ]
        }
      ],
      "source": [
        "dataFake[\"class\"] = 0\n",
        "print(\"Fake: \", dataFake.shape)\n",
        "\n",
        "dataTrue[\"class\"] = 1\n",
        "print(\"True: \", dataTrue.shape)\n",
        "\n",
        "data_merge = pd.concat([dataFake, dataTrue], axis=0)\n",
        "data = data_merge.drop([\"title\", \"subject\", \"date\"], axis=1)\n",
        "print(\"All data: \", data.shape)\n"
      ]
    },
    {
      "attachments": {},
      "cell_type": "markdown",
      "metadata": {
        "id": "g2PeBL87OU5U"
      },
      "source": [
        "## Preparación de los datos (como en la entrega)"
      ]
    },
    {
      "attachments": {},
      "cell_type": "markdown",
      "metadata": {},
      "source": [
        "Se utiliza la misma limpieza que en el trabajo entregado. Aquí solo se considerará la vectorización con CountVectorizer"
      ]
    },
    {
      "cell_type": "code",
      "execution_count": 4,
      "metadata": {
        "id": "JLoc_nj33pBL"
      },
      "outputs": [],
      "source": [
        "\"\"\"\n",
        "  Función que elimina los símbolos especiales de un texto,\n",
        "  así como las stopwords\n",
        "\"\"\"\n",
        "\n",
        "\n",
        "def word_cleaner(text):\n",
        "    text = text.lower()\n",
        "    text = re.sub(\"\\[.*?\\]\", \"\", text)\n",
        "    text = re.sub(\"\\\\W\", \" \", text)\n",
        "    text = re.sub(\"https?://\\S+|www\\.\\S+\", \"\", text)\n",
        "    text = re.sub(\"<.*?>+\", \"\", text)\n",
        "    text = re.sub(\"[%s]\" % re.escape(string.punctuation), \"\", text)\n",
        "    text = re.sub(\"\\n\", \"\", text)\n",
        "    text = re.sub(\"\\w*\\d\\w*\", \"\", text)\n",
        "    return remove_stopwords(text)\n",
        "\n",
        "\n",
        "\"\"\"\n",
        "  Función que dado un texto, lo limpia y elimina las letras aisladas existentes.\n",
        "\"\"\"\n",
        "\n",
        "\n",
        "def text_cleaner(text, lemmatizer):\n",
        "    text = word_cleaner(text)\n",
        "    tokens = word_tokenize(text)\n",
        "    lemmatized_tokens = [lemmatizer.lemmatize(token) for token in tokens]\n",
        "    text = remove_letters(lemmatized_tokens)\n",
        "    text = \" \".join(text)\n",
        "    return text\n",
        "\n",
        "\n",
        "\"\"\"\n",
        "  Funcion que elimina las palabras con lengitud menor a length\n",
        "\"\"\"\n",
        "\n",
        "\n",
        "def remove_letters(lemas, length=2):\n",
        "    return [word for word in lemas if len(word) > length]\n",
        "\n",
        "\n",
        "\"\"\"\n",
        "  Funcion que cuenta la frecuencia de palabras en el dataset\n",
        "\"\"\"\n",
        "\n",
        "\n",
        "def count_tokens(texts, wf):\n",
        "    for text in texts:\n",
        "        tokens = text.split()\n",
        "        wf.update(tokens)\n",
        "    return wf\n",
        "\n",
        "\n",
        "\"\"\"\n",
        "  Funcion que dado el dataset y la lista de palabras que no tienen una \n",
        "  frecuencua valida las elimina del dataset\n",
        "\"\"\"\n",
        "\n",
        "\n",
        "def remove_max_min_words_freq(texts, words_to_remove):\n",
        "    filtered_texts = []\n",
        "    for text in texts:\n",
        "        tokens = text.split()\n",
        "        filtered_tokens = [word for word in tokens if word not in words_to_remove]\n",
        "        filtered_text = \" \".join(filtered_tokens)\n",
        "        filtered_texts.append(filtered_text)\n",
        "    return filtered_texts\n",
        "\n",
        "\n",
        "\"\"\"\n",
        "  Funcion que obtiene la lista de palabras a eliminar\n",
        "\"\"\"\n",
        "\n",
        "\n",
        "def get_words_to_remove(min_freq=2, max_freq=1000, word_freq=None):\n",
        "    return [\n",
        "        word for word, freq in word_freq.items() if freq < min_freq or freq > max_freq\n",
        "    ]\n"
      ]
    },
    {
      "cell_type": "code",
      "execution_count": 5,
      "metadata": {
        "id": "X0jFN8eZOU5V"
      },
      "outputs": [],
      "source": [
        "clean_data = data.copy()\n",
        "lemmatizer = WordNetLemmatizer()\n",
        "clean_data[\"text\"] = clean_data[\"text\"].apply(text_cleaner, args=(lemmatizer,))\n"
      ]
    },
    {
      "cell_type": "code",
      "execution_count": 6,
      "metadata": {
        "colab": {
          "base_uri": "https://localhost:8080/"
        },
        "id": "pWemUeuqOU5Y",
        "outputId": "cc88b20b-a5c6-4d8e-c78d-046ead8a1c10"
      },
      "outputs": [
        {
          "name": "stdout",
          "output_type": "stream",
          "text": [
            "Datos de entrenamiento: 33673 (74.998886%)\n",
            "Datos de prueba: \t11225 (25.001114%)\n"
          ]
        }
      ],
      "source": [
        "SEED = 123456789\n",
        "\n",
        "x = clean_data[\"text\"]\n",
        "y = clean_data[\"class\"]\n",
        "\n",
        "x_train, x_test, y_train, y_test = train_test_split(\n",
        "    x, y, test_size=0.25, random_state=SEED\n",
        ")\n",
        "y_train_array = np.array(y_train)\n",
        "\n",
        "print(f\"Datos de entrenamiento: {len(x_train)} ({len(x_train)/len(x):%})\")\n",
        "print(f\"Datos de prueba: \\t{len(x_test)} ({len(x_test)/len(x):%})\")\n"
      ]
    },
    {
      "cell_type": "code",
      "execution_count": 7,
      "metadata": {
        "id": "9vIDe8IWOU5c"
      },
      "outputs": [],
      "source": [
        "count_vectorizer = CountVectorizer()\n",
        "x_count_train = count_vectorizer.fit_transform(x_train)\n",
        "x_count_test = count_vectorizer.transform(x_test)\n",
        "count_words = count_vectorizer.get_feature_names_out()\n"
      ]
    },
    {
      "attachments": {},
      "cell_type": "markdown",
      "metadata": {},
      "source": [
        "## Separación de datos por etiqueta\n"
      ]
    },
    {
      "attachments": {},
      "cell_type": "markdown",
      "metadata": {},
      "source": [
        "### Palabras en noticias falsas"
      ]
    },
    {
      "cell_type": "code",
      "execution_count": 8,
      "metadata": {},
      "outputs": [],
      "source": [
        "x_count_train_fake = np.array(\n",
        "    [x_count_train[i] for i in range(len(y_train_array)) if y_train_array[i] == 0]\n",
        ")\n",
        "x_fake_count_sum = np.array(x_count_train_fake.sum(axis=0).todense())[0]\n",
        "count_fake_words = np.array(\n",
        "    [count_words[i] for i in range(len(x_fake_count_sum)) if x_fake_count_sum[i] > 0]\n",
        ")\n"
      ]
    },
    {
      "attachments": {},
      "cell_type": "markdown",
      "metadata": {},
      "source": [
        "### Palabras en noticias verdaderas"
      ]
    },
    {
      "cell_type": "code",
      "execution_count": 9,
      "metadata": {
        "id": "my0s2fY3wTjP"
      },
      "outputs": [],
      "source": [
        "x_count_train_true = np.array(\n",
        "    [x_count_train[i] for i in range(len(y_train_array)) if y_train_array[i] == 1]\n",
        ")\n",
        "x_true_count_sum = np.array(x_count_train_true.sum(axis=0).todense())[0]\n",
        "count_true_words = np.array(\n",
        "    [count_words[i] for i in range(len(x_true_count_sum)) if x_true_count_sum[i] > 0]\n",
        ")"
      ]
    },
    {
      "attachments": {},
      "cell_type": "markdown",
      "metadata": {},
      "source": [
        "### Diferencial de apariciones"
      ]
    },
    {
      "cell_type": "code",
      "execution_count": 10,
      "metadata": {},
      "outputs": [],
      "source": [
        "x_total_counts = x_true_count_sum + x_fake_count_sum\n",
        "x_count_diff = x_true_count_sum - x_fake_count_sum\n",
        "sorted_diff_indexes = list(range(len(x_count_diff)))\n",
        "sorted_diff_indexes.sort(key=x_count_diff.__getitem__, reverse=True)"
      ]
    },
    {
      "attachments": {},
      "cell_type": "markdown",
      "metadata": {},
      "source": [
        "## Análisis de traslapes"
      ]
    },
    {
      "attachments": {},
      "cell_type": "markdown",
      "metadata": {},
      "source": [
        "### Traslape de apariciones"
      ]
    },
    {
      "cell_type": "code",
      "execution_count": 11,
      "metadata": {},
      "outputs": [
        {
          "data": {
            "text/plain": [
              "<matplotlib_venn._common.VennDiagram at 0x7fcf25234c70>"
            ]
          },
          "execution_count": 11,
          "metadata": {},
          "output_type": "execute_result"
        },
        {
          "data": {
            "image/png": "[encoded data removed]",
            "text/plain": [
              "<Figure size 640x480 with 1 Axes>"
            ]
          },
          "metadata": {},
          "output_type": "display_data"
        }
      ],
      "source": [
        "true_words_set = set(count_true_words)\n",
        "fake_words_set = set(count_fake_words)\n",
        "venn2(\n",
        "    [fake_words_set, true_words_set],\n",
        "    [\"Palabras en noticias falsas\", \"Palabras en noticias verdaderas\"],\n",
        ")\n"
      ]
    },
    {
      "attachments": {},
      "cell_type": "markdown",
      "metadata": {},
      "source": [
        "Se observa que hay muchas palabras que solamente aparecen en un tipo de noticias. Por lo anterior, dichas palabras (dado este conjunto de entrenamiento) pueden ser utilizadas como indicadoras con mucha asertividad. Esto ni siquiera considera palabras que aparecen varias veces en un tipo de noticias y muy pocas en el otro tipo (esas palabras también sirven para diferenciar)."
      ]
    },
    {
      "attachments": {},
      "cell_type": "markdown",
      "metadata": {},
      "source": [
        "### Palabras más populares en cada tipo de noticias"
      ]
    },
    {
      "cell_type": "code",
      "execution_count": 12,
      "metadata": {},
      "outputs": [
        {
          "name": "stdout",
          "output_type": "stream",
          "text": [
            "Palabras más frecuentes en noticias falsas:\n",
            "* trump          : 59612  \t(58.938918% de apariciones falsas)\n",
            "* said           : 25262  \t(25.285769% de apariciones falsas)\n",
            "* president      : 21111  \t(49.407882% de apariciones falsas)\n",
            "* people         : 19895  \t(63.144698% de apariciones falsas)\n",
            "* state          : 17768  \t(38.522244% de apariciones falsas)\n",
            "* clinton        : 14932  \t(68.064546% de apariciones falsas)\n",
            "* year           : 14463  \t(45.978510% de apariciones falsas)\n",
            "* time           : 14420  \t(66.283613% de apariciones falsas)\n",
            "* obama          : 13988  \t(66.505016% de apariciones falsas)\n",
            "* like           : 13821  \t(79.362618% de apariciones falsas)\n",
            "* american       : 13521  \t(70.753532% de apariciones falsas)\n",
            "* donald         : 13169  \t(62.608158% de apariciones falsas)\n",
            "* republican     : 12503  \t(41.821648% de apariciones falsas)\n",
            "* right          : 11250  \t(61.647214% de apariciones falsas)\n",
            "* new            : 10883  \t(46.235874% de apariciones falsas)\n",
            "* news           : 10774  \t(70.418301% de apariciones falsas)\n",
            "* image          : 10726  \t(95.725123% de apariciones falsas)\n",
            "* hillary        : 10541  \t(83.466624% de apariciones falsas)\n",
            "* white          : 10310  \t(58.662873% de apariciones falsas)\n",
            "* know           : 9042  \t(82.454860% de apariciones falsas)\n",
            "\n",
            "Palabras más frecuentes en noticias verdaderas:\n",
            "* said           : 74644  \t(74.714231% de apariciones verdaderas)\n",
            "* trump          : 41530  \t(41.061082% de apariciones verdaderas)\n",
            "* state          : 28356  \t(61.477756% de apariciones verdaderas)\n",
            "* reuters        : 21833  \t(98.595556% de apariciones verdaderas)\n",
            "* president      : 21617  \t(50.592118% de apariciones verdaderas)\n",
            "* republican     : 17393  \t(58.178352% de apariciones verdaderas)\n",
            "* year           : 16993  \t(54.021490% de apariciones verdaderas)\n",
            "* government     : 14966  \t(67.259898% de apariciones verdaderas)\n",
            "* house          : 12774  \t(60.132750% de apariciones verdaderas)\n",
            "* new            : 12655  \t(53.764126% de apariciones verdaderas)\n",
            "* united         : 11688  \t(66.333712% de apariciones verdaderas)\n",
            "* people         : 11612  \t(36.855302% de apariciones verdaderas)\n",
            "* party          : 11593  \t(64.053263% de apariciones verdaderas)\n",
            "* election       : 11109  \t(58.647450% de apariciones verdaderas)\n",
            "* official       : 11083  \t(69.108936% de apariciones verdaderas)\n",
            "* told           : 10733  \t(60.979490% de apariciones verdaderas)\n",
            "* country        : 10691  \t(55.789803% de apariciones verdaderas)\n",
            "* washington     : 9708  \t(69.002772% de apariciones verdaderas)\n",
            "* group          : 8472  \t(57.726901% de apariciones verdaderas)\n",
            "* campaign       : 8354  \t(48.626310% de apariciones verdaderas)\n"
          ]
        }
      ],
      "source": [
        "sorted_fake_indexes = list(range(len(x_fake_count_sum)))\n",
        "sorted_fake_indexes.sort(key=x_fake_count_sum.__getitem__, reverse=True)\n",
        "\n",
        "n_top = 20\n",
        "print(\"Palabras más frecuentes en noticias falsas:\")\n",
        "for i in sorted_fake_indexes[:n_top]:\n",
        "    print(f\"* {count_words[i].ljust(15)}: {x_fake_count_sum[i]}  \\t({x_fake_count_sum[i]/x_total_counts[i]:%} de apariciones falsas)\")\n",
        "\n",
        "print()\n",
        "\n",
        "sorted_true_indexes = list(range(len(x_true_count_sum)))\n",
        "sorted_true_indexes.sort(key=x_true_count_sum.__getitem__, reverse=True)\n",
        "\n",
        "n_top = 20\n",
        "print(\"Palabras más frecuentes en noticias verdaderas:\")\n",
        "for i in sorted_true_indexes[:n_top]:\n",
        "    print(f\"* {count_words[i].ljust(15)}: {x_true_count_sum[i]}  \\t({x_true_count_sum[i]/x_total_counts[i]:%} de apariciones verdaderas)\")\n"
      ]
    },
    {
      "attachments": {},
      "cell_type": "markdown",
      "metadata": {},
      "source": [
        "Se ve que, dentro de las palabras más populares, se comienzan a distinguir unas que son más populares en un tipo de noticias que en otro."
      ]
    },
    {
      "cell_type": "code",
      "execution_count": 13,
      "metadata": {},
      "outputs": [
        {
          "data": {
            "text/plain": [
              "<matplotlib_venn._common.VennDiagram at 0x7fcf25206af0>"
            ]
          },
          "execution_count": 13,
          "metadata": {},
          "output_type": "execute_result"
        },
        {
          "data": {
            "image/png": "[encoded data removed]",
            "text/plain": [
              "<Figure size 640x480 with 1 Axes>"
            ]
          },
          "metadata": {},
          "output_type": "display_data"
        }
      ],
      "source": [
        "true_words_set = set(count_true_words)\n",
        "fake_words_set = set(count_fake_words)\n",
        "venn2(\n",
        "    [fake_words_set, true_words_set],\n",
        "    [\"Palabras en noticias falsas\", \"Palabras en noticias verdaderas\"],\n",
        ")\n"
      ]
    },
    {
      "attachments": {},
      "cell_type": "markdown",
      "metadata": {},
      "source": [
        "#### Palabras con mayor diferencial de apariciones en cada tipo de noticias"
      ]
    },
    {
      "attachments": {},
      "cell_type": "markdown",
      "metadata": {},
      "source": [
        "Queriendo ver palabras con tazas altas de algún tipo de noticias pero evitando aquellas que tienen una taza del 100% por solamente tener pocas apariciones en pocas noticias, nos fijamos en aquellas palabras que aparecen muchas veces en un tipo de noticias, descontando las apariciones en el otro tipo."
      ]
    },
    {
      "cell_type": "code",
      "execution_count": 14,
      "metadata": {},
      "outputs": [
        {
          "name": "stdout",
          "output_type": "stream",
          "text": [
            "\n",
            "Palabras con más apariciones falsas sobre verdaderas\n",
            "* medium         : -5300  \t(71.689311% de apariciones falsas)\n",
            "* donald         : -5304  \t(62.608158% de apariciones falsas)\n",
            "* black          : -5482  \t(87.630423% de apariciones falsas)\n",
            "* video          : -5977  \t(88.328844% de apariciones falsas)\n",
            "* woman          : -5978  \t(76.022985% de apariciones falsas)\n",
            "* com            : -6036  \t(97.557517% de apariciones falsas)\n",
            "* featured       : -6113  \t(98.724693% de apariciones falsas)\n",
            "* news           : -6248  \t(70.418301% de apariciones falsas)\n",
            "* america        : -6483  \t(81.455604% de apariciones falsas)\n",
            "* twitter        : -6804  \t(81.800337% de apariciones falsas)\n",
            "* obama          : -6943  \t(66.505016% de apariciones falsas)\n",
            "* time           : -7085  \t(66.283613% de apariciones falsas)\n",
            "* know           : -7118  \t(82.454860% de apariciones falsas)\n",
            "* clinton        : -7926  \t(68.064546% de apariciones falsas)\n",
            "* american       : -7932  \t(70.753532% de apariciones falsas)\n",
            "* people         : -8283  \t(63.144698% de apariciones falsas)\n",
            "* hillary        : -8453  \t(83.466624% de apariciones falsas)\n",
            "* like           : -10227  \t(79.362618% de apariciones falsas)\n",
            "* image          : -10247  \t(95.725123% de apariciones falsas)\n",
            "* trump          : -18082  \t(58.938918% de apariciones falsas)\n",
            "\n",
            "Palabras con más apariciones verdaderas sobre falsas\n",
            "* said           : 49382  \t(74.714231% de apariciones verdaderas)\n",
            "* reuters        : 21522  \t(98.595556% de apariciones verdaderas)\n",
            "* state          : 10588  \t(61.477756% de apariciones verdaderas)\n",
            "* government     : 7681  \t(67.259898% de apariciones verdaderas)\n",
            "* minister       : 6353  \t(89.780839% de apariciones verdaderas)\n",
            "* official       : 6129  \t(69.108936% de apariciones verdaderas)\n",
            "* united         : 5756  \t(66.333712% de apariciones verdaderas)\n",
            "* china          : 5678  \t(87.533051% de apariciones verdaderas)\n",
            "* north          : 5491  \t(79.241666% de apariciones verdaderas)\n",
            "* washington     : 5347  \t(69.002772% de apariciones verdaderas)\n",
            "* party          : 5087  \t(64.053263% de apariciones verdaderas)\n",
            "* republican     : 4890  \t(58.178352% de apariciones verdaderas)\n",
            "* leader         : 4851  \t(71.222329% de apariciones verdaderas)\n",
            "* korea          : 4652  \t(87.014640% de apariciones verdaderas)\n",
            "* tax            : 4630  \t(72.532607% de apariciones verdaderas)\n",
            "* wednesday      : 4499  \t(79.180179% de apariciones verdaderas)\n",
            "* house          : 4305  \t(60.132750% de apariciones verdaderas)\n",
            "* tuesday        : 4299  \t(76.429362% de apariciones verdaderas)\n",
            "* percent        : 4298  \t(69.795505% de apariciones verdaderas)\n",
            "* senate         : 4243  \t(71.659010% de apariciones verdaderas)\n"
          ]
        }
      ],
      "source": [
        "print(\"\\nPalabras con más apariciones falsas sobre verdaderas\")\n",
        "for i in sorted_diff_indexes[-n_top:]:\n",
        "    print(f\"* {count_words[i].ljust(15)}: {x_count_diff[i]}  \\t({x_fake_count_sum[i]/x_total_counts[i]:%} de apariciones falsas)\")\n",
        "\n",
        "print()\n",
        "\n",
        "print(\"Palabras con más apariciones verdaderas sobre falsas\")\n",
        "for i in sorted_diff_indexes[:n_top]:\n",
        "    print(f\"* {count_words[i].ljust(15)}: {x_count_diff[i]}  \\t({x_true_count_sum[i]/x_total_counts[i]:%} de apariciones verdaderas)\")\n"
      ]
    },
    {
      "attachments": {},
      "cell_type": "markdown",
      "metadata": {},
      "source": [
        "Se distingue que varias de las palabras que aparecen más en noticias falsas son nombres de políticos o partidos políticos."
      ]
    }
  ],
  "metadata": {
    "accelerator": "GPU",
    "colab": {
      "gpuType": "T4",
      "provenance": []
    },
    "kernelspec": {
      "display_name": "Python 3 (ipykernel)",
      "language": "python",
      "name": "python3"
    },
    "language_info": {
      "codemirror_mode": {
        "name": "ipython",
        "version": 3
      },
      "file_extension": ".py",
      "mimetype": "text/x-python",
      "name": "python",
      "nbconvert_exporter": "python",
      "pygments_lexer": "ipython3",
      "version": "3.8.10"
    }
  },
  "nbformat": 4,
  "nbformat_minor": 0
}

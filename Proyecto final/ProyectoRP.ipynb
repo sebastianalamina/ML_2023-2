{
  "cells": [
    {
      "cell_type": "code",
      "execution_count": null,
      "metadata": {
        "id": "wbLhTObWvAwO"
      },
      "outputs": [],
      "source": [
        "import pandas as pd\n",
        "import numpy as np\n",
        "import seaborn as sns\n",
        "import matplotlib.pyplot as plt\n",
        "import matplotlib.colors as mcolors\n",
        "from sklearn.model_selection import train_test_split\n",
        "from sklearn.metrics import accuracy_score, classification_report\n",
        "from sklearn.feature_extraction.text import TfidfVectorizer, CountVectorizer\n",
        "from sklearn.linear_model import LogisticRegression\n",
        "from sklearn.neighbors import KNeighborsClassifier\n",
        "import re, string\n",
        "from gensim.parsing.preprocessing import remove_stopwords"
      ]
    },
    {
      "attachments": {},
      "cell_type": "markdown",
      "metadata": {},
      "source": [
        "## Lectura de los datos"
      ]
    },
    {
      "cell_type": "code",
      "execution_count": null,
      "metadata": {
        "id": "_DcuAIZKwf8K"
      },
      "outputs": [],
      "source": [
        "dataFake = pd.read_csv(\"Fake.csv\")\n",
        "dataFake[\"class\"]=0\n",
        "print(dataFake.shape)\n",
        "\n",
        "dataTrue = pd.read_csv(\"True.csv\")\n",
        "dataTrue[\"class\"]=1\n",
        "print(dataTrue.shape)\n",
        "\n",
        "data_merge = pd.concat([dataFake,dataTrue], axis=0)\n",
        "data = data_merge.drop([\"title\",\"subject\",\"date\"], axis=1)\n",
        "print(data.shape)"
      ]
    },
    {
      "cell_type": "code",
      "execution_count": null,
      "metadata": {
        "id": "cUNVlpoH21hV"
      },
      "outputs": [],
      "source": [
        "data.head()"
      ]
    },
    {
      "attachments": {},
      "cell_type": "markdown",
      "metadata": {},
      "source": [
        "## Limpieza"
      ]
    },
    {
      "cell_type": "code",
      "execution_count": null,
      "metadata": {
        "id": "JLoc_nj33pBL"
      },
      "outputs": [],
      "source": [
        "def word_cleaner(text):\n",
        "  text = text. lower()\n",
        "  text = re.sub('\\[.*?\\]', '', text)\n",
        "  text = re.sub('\\\\W', ' ', text)\n",
        "  text = re.sub('https?://\\S+|www\\.\\S+', '', text)\n",
        "  text = re.sub('<.*?>+', '', text)\n",
        "  text = re.sub('[%s]' % re.escape(string.punctuation), '', text)\n",
        "  text = re.sub('\\n', '', text)\n",
        "  text = re.sub('\\w*\\d\\w*', '', text)\n",
        "  return remove_stopwords(text)  "
      ]
    },
    {
      "cell_type": "code",
      "execution_count": null,
      "metadata": {},
      "outputs": [],
      "source": [
        "clean_data = data.copy()\n",
        "clean_data[\"text\"]= clean_data['text'].apply(word_cleaner)"
      ]
    },
    {
      "cell_type": "code",
      "execution_count": null,
      "metadata": {},
      "outputs": [],
      "source": [
        "clean_data.head()"
      ]
    },
    {
      "attachments": {},
      "cell_type": "markdown",
      "metadata": {},
      "source": [
        "## Separación de datos de entrenamiento y de prueba"
      ]
    },
    {
      "cell_type": "code",
      "execution_count": null,
      "metadata": {},
      "outputs": [],
      "source": [
        "SEED = 123456789\n",
        "\n",
        "x = clean_data['text']\n",
        "y = clean_data['class']\n",
        "\n",
        "x_train, x_test, y_train, y_test = train_test_split(x,y, test_size=0.25, random_state=SEED)\n",
        "\n",
        "print(f\"Datos de entrenamiento: {len(x_train)} ({len(x_train)/len(x):%})\")\n",
        "print(f\"Datos de prueba: \\t{len(x_test)} ({len(x_test)/len(x):%})\")"
      ]
    },
    {
      "attachments": {},
      "cell_type": "markdown",
      "metadata": {},
      "source": [
        "## Preprocesamiento"
      ]
    },
    {
      "attachments": {},
      "cell_type": "markdown",
      "metadata": {},
      "source": [
        "### Vectorización TFID:"
      ]
    },
    {
      "cell_type": "code",
      "execution_count": null,
      "metadata": {},
      "outputs": [],
      "source": [
        "tfid_vectorizer = TfidfVectorizer()\n",
        "def vectorize_TFID(x, mode=\"test\"):\n",
        "    if mode == \"train\":\n",
        "        return tfid_vectorizer.fit_transform(x)\n",
        "    elif mode == \"test\":\n",
        "        return tfid_vectorizer.transform(x)\n",
        "    return None"
      ]
    },
    {
      "cell_type": "code",
      "execution_count": null,
      "metadata": {},
      "outputs": [],
      "source": [
        "x_tfid_train = vectorize_TFID(x_train, mode=\"train\")\n",
        "x_tfid_test = vectorize_TFID(x_test, mode=\"test\")"
      ]
    },
    {
      "attachments": {},
      "cell_type": "markdown",
      "metadata": {},
      "source": [
        "### Vectorización por frecuencia"
      ]
    },
    {
      "cell_type": "code",
      "execution_count": null,
      "metadata": {},
      "outputs": [],
      "source": [
        "count_vectorizer = CountVectorizer()\n",
        "def vectorize_Count(x, mode=\"test\"):\n",
        "    if mode == \"train\":\n",
        "        return count_vectorizer.fit_transform(x)\n",
        "    elif mode == \"test\":\n",
        "        return count_vectorizer.transform(x)\n",
        "    return None"
      ]
    },
    {
      "cell_type": "code",
      "execution_count": null,
      "metadata": {},
      "outputs": [],
      "source": [
        "x_count_train = vectorize_Count(x_train, mode=\"train\")\n",
        "x_count_test = vectorize_Count(x_test, mode=\"test\")"
      ]
    },
    {
      "attachments": {},
      "cell_type": "markdown",
      "metadata": {},
      "source": [
        "## Ajuste de modelos"
      ]
    },
    {
      "attachments": {},
      "cell_type": "markdown",
      "metadata": {},
      "source": [
        "### Regresión logística"
      ]
    },
    {
      "attachments": {},
      "cell_type": "markdown",
      "metadata": {},
      "source": [
        "Se ajusta un modelo de regresión logística a los vectores generados por TFID."
      ]
    },
    {
      "cell_type": "code",
      "execution_count": null,
      "metadata": {
        "id": "V0Esql-47WCe"
      },
      "outputs": [],
      "source": [
        "LR_tfid = LogisticRegression(max_iter=1000)\n",
        "LR_tfid.fit(x_tfid_train, y_train)\n",
        "print(f\"El algoritmo convergió después de {LR_tfid.n_iter_} iteraciones\")\n"
      ]
    },
    {
      "attachments": {},
      "cell_type": "markdown",
      "metadata": {},
      "source": [
        "Se ajusta un modelo de regresión logística a los vectores generados por frecuencias de palabras."
      ]
    },
    {
      "cell_type": "code",
      "execution_count": null,
      "metadata": {},
      "outputs": [],
      "source": [
        "LR_count = LogisticRegression(max_iter=2000)\n",
        "LR_count.fit(x_count_train, y_train)\n",
        "print(f\"El algoritmo convergió después de {LR_count.n_iter_} iteraciones\")"
      ]
    },
    {
      "attachments": {},
      "cell_type": "markdown",
      "metadata": {},
      "source": [
        "### K Nearest Neighbors "
      ]
    },
    {
      "attachments": {},
      "cell_type": "markdown",
      "metadata": {},
      "source": [
        "Se obtiene un valor de $K$ sensato para los modelos."
      ]
    },
    {
      "cell_type": "code",
      "execution_count": null,
      "metadata": {},
      "outputs": [],
      "source": [
        "K = 5 # FIXME Encontrar mejor valor de K\n",
        "N_JOBS = 4"
      ]
    },
    {
      "attachments": {},
      "cell_type": "markdown",
      "metadata": {},
      "source": [
        "Se ajusta un modelo KNN a los vectores generados por TFID."
      ]
    },
    {
      "cell_type": "code",
      "execution_count": null,
      "metadata": {
        "colab": {
          "base_uri": "https://localhost:8080/",
          "height": 75
        },
        "id": "vDNSC6F3-gjY",
        "outputId": "46d2c359-cef6-4d05-8710-bee5f33175f8"
      },
      "outputs": [],
      "source": [
        "KNN_tfid = KNeighborsClassifier(n_neighbors=K, n_jobs=N_JOBS)\n",
        "KNN_tfid.fit(x_tfid_train, y_train)"
      ]
    },
    {
      "attachments": {},
      "cell_type": "markdown",
      "metadata": {},
      "source": [
        "Se ajusta un modelo KNN a los vectores generados por frecuencias de palabras."
      ]
    },
    {
      "cell_type": "code",
      "execution_count": null,
      "metadata": {},
      "outputs": [],
      "source": [
        "KNN_count = KNeighborsClassifier(n_neighbors=K, n_jobs=N_JOBS)\n",
        "KNN_count.fit(x_count_train, y_train)"
      ]
    },
    {
      "attachments": {},
      "cell_type": "markdown",
      "metadata": {},
      "source": [
        "## Evaluación de los modelos"
      ]
    },
    {
      "cell_type": "code",
      "execution_count": null,
      "metadata": {},
      "outputs": [],
      "source": [
        "class TrainedModel:\n",
        "    def __init__(self, model, name, x_test, y_test) -> None:\n",
        "        self.model = model\n",
        "        self.name = name\n",
        "        self.x_test = x_test\n",
        "        self.y_test = y_test\n",
        "        self.predict = model.predict(x_test)\n"
      ]
    },
    {
      "cell_type": "code",
      "execution_count": null,
      "metadata": {},
      "outputs": [],
      "source": [
        "LR_tfid_tm = TrainedModel(LR_tfid, \"LR + TFID\", x_tfid_test, y_test)"
      ]
    },
    {
      "cell_type": "code",
      "execution_count": null,
      "metadata": {},
      "outputs": [],
      "source": [
        "LR_count_tm = TrainedModel(LR_count, \"LR + Count\", x_count_test, y_test)"
      ]
    },
    {
      "cell_type": "code",
      "execution_count": null,
      "metadata": {},
      "outputs": [],
      "source": [
        "KNN_tfid_tm = TrainedModel(KNN_tfid, f\"KNN ({KNN_tfid.n_neighbors}) + TFID\", x_tfid_test, y_test)"
      ]
    },
    {
      "cell_type": "code",
      "execution_count": null,
      "metadata": {},
      "outputs": [],
      "source": [
        "KNN_count_tm = TrainedModel(KNN_count, f\"KNN ({KNN_count.n_neighbors}) + Count\", x_count_test, y_test)"
      ]
    },
    {
      "cell_type": "code",
      "execution_count": null,
      "metadata": {},
      "outputs": [],
      "source": [
        "trained_models = [\n",
        "    LR_tfid_tm, LR_count_tm, KNN_tfid_tm, KNN_count_tm\n",
        "]\n",
        "labels = [0, 1]\n",
        "target_names = [\"Fake\", \"True\"]"
      ]
    },
    {
      "attachments": {},
      "cell_type": "markdown",
      "metadata": {},
      "source": [
        "### Reportes de clasificación"
      ]
    },
    {
      "cell_type": "code",
      "execution_count": null,
      "metadata": {},
      "outputs": [],
      "source": [
        "def plot_clasification_reports(trained_models, labels, target_names, rows=2, cols=2):\n",
        "    # Se generan los reportes\n",
        "    reports = [\n",
        "        pd.DataFrame(\n",
        "            classification_report(\n",
        "                m.y_test,\n",
        "                m.predict,\n",
        "                labels=labels,\n",
        "                target_names=target_names,\n",
        "                output_dict=True,\n",
        "            )\n",
        "        ) for m in trained_models\n",
        "    ]\n",
        "\n",
        "    # Se obtiene la norma de colores de todos los modelos\n",
        "    # https://stackoverflow.com/a/70517313/15217078\n",
        "    values = np.hstack([d.iloc[:-1, :].values.ravel() for d in reports])\n",
        "    norm = mcolors.Normalize(values.min(), values.max())\n",
        "\n",
        "    # Se generan las gráficas de los reportes\n",
        "    # # https://stackoverflow.com/a/58948133/15217078\n",
        "    fig, axes = plt.subplots(rows, cols)\n",
        "    fig.set_size_inches(14, 9)\n",
        "    for i, m in enumerate(trained_models):\n",
        "        ax = axes[i // rows][i % cols]\n",
        "        r = reports[i]\n",
        "        sns.heatmap(r.iloc[:-1, :].T, annot=True, norm=norm, ax=ax)\n",
        "        ax.set_title(m.name)\n",
        "    return fig, axes\n",
        "\n",
        "report_fig, report_axes = plot_clasification_reports(trained_models, labels, target_names)\n"
      ]
    }
  ],
  "metadata": {
    "colab": {
      "provenance": []
    },
    "kernelspec": {
      "display_name": "Python 3",
      "name": "python3"
    },
    "language_info": {
      "codemirror_mode": {
        "name": "ipython",
        "version": 3
      },
      "file_extension": ".py",
      "mimetype": "text/x-python",
      "name": "python",
      "nbconvert_exporter": "python",
      "pygments_lexer": "ipython3",
      "version": "3.8.10"
    }
  },
  "nbformat": 4,
  "nbformat_minor": 0
}

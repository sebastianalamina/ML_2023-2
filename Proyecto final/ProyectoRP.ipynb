{
  "nbformat": 4,
  "nbformat_minor": 0,
  "metadata": {
    "colab": {
      "provenance": []
    },
    "kernelspec": {
      "name": "python3",
      "display_name": "Python 3"
    },
    "language_info": {
      "name": "python"
    }
  },
  "cells": [
    {
      "cell_type": "code",
      "source": [
        "import pandas as pd\n",
        "import numpy as np\n",
        "import seaborn as sns\n",
        "import matplotlib.pyplot as plt\n",
        "from sklearn.model_selection import train_test_split\n",
        "from sklearn.metrics import accuracy_score, classification_report\n",
        "from sklearn.feature_extraction.text import TfidfVectorizer\n",
        "from sklearn.linear_model import LogisticRegression\n",
        "import re, string\n",
        "from gensim.parsing.preprocessing import remove_stopwords"
      ],
      "metadata": {
        "id": "wbLhTObWvAwO"
      },
      "execution_count": 179,
      "outputs": []
    },
    {
      "cell_type": "code",
      "source": [
        "dataFake = pd.read_csv(\"Fake.csv\")\n",
        "dataTrue = pd.read_csv(\"True.csv\")"
      ],
      "metadata": {
        "id": "_DcuAIZKwf8K"
      },
      "execution_count": 156,
      "outputs": []
    },
    {
      "cell_type": "code",
      "source": [
        "dataFake[\"class\"]=0\n",
        "dataTrue[\"class\"]=1"
      ],
      "metadata": {
        "id": "NVKlLGT91-4l"
      },
      "execution_count": 157,
      "outputs": []
    },
    {
      "cell_type": "code",
      "source": [
        "# Manual test\n",
        "dataFake_manualTest = dataFake.tail(10)\n",
        "dataTrue_manualTest = dataTrue.tail(10)\n",
        "for i in range(23480,23470,-1):\n",
        "  dataFake.drop([i],axis=0,inplace=True)\n",
        "\n",
        "for i in range(21416,21406,-1):\n",
        "  dataTrue.drop([i],axis=0,inplace=True)"
      ],
      "metadata": {
        "id": "yG8fGLMMxSWY"
      },
      "execution_count": 158,
      "outputs": []
    },
    {
      "cell_type": "code",
      "source": [
        "dataFake_manualTest[\"class\"]=0\n",
        "dataTrue_manualTest[\"class\"]=1"
      ],
      "metadata": {
        "id": "u8oSkbuswquH"
      },
      "execution_count": null,
      "outputs": []
    },
    {
      "cell_type": "code",
      "source": [
        "print(dataFake.shape)\n",
        "print(dataTrue.shape)\n",
        "print(dataFake_manualTest.shape)\n",
        "print(dataTrue_manualTest.shape)"
      ],
      "metadata": {
        "id": "RZqqsVTV0-WK"
      },
      "execution_count": null,
      "outputs": []
    },
    {
      "cell_type": "code",
      "source": [
        "data_merge = pd.concat([dataFake,dataTrue], axis=0)"
      ],
      "metadata": {
        "id": "kEZo_BaP2S9m"
      },
      "execution_count": 161,
      "outputs": []
    },
    {
      "cell_type": "code",
      "source": [
        "data = data_merge.drop([\"title\",\"subject\",\"date\"], axis=1)"
      ],
      "metadata": {
        "id": "R87yCQpg2ian"
      },
      "execution_count": 162,
      "outputs": []
    },
    {
      "cell_type": "code",
      "source": [
        "data.head()"
      ],
      "metadata": {
        "id": "cUNVlpoH21hV"
      },
      "execution_count": null,
      "outputs": []
    },
    {
      "cell_type": "code",
      "source": [
        "def word_cleaner(text):\n",
        "  text = text. lower()\n",
        "  text = re.sub('\\[.*?\\]', '', text)\n",
        "  text = re.sub('\\\\W', ' ', text)\n",
        "  text = re.sub('https?://\\S+|www\\.\\S+', '', text)\n",
        "  text = re.sub('<.*?>+', '', text)\n",
        "  text = re.sub('[%s]' % re.escape(string.punctuation), '', text)\n",
        "  text = re.sub('\\n', '', text)\n",
        "  text = re.sub('\\w*\\d\\w*', '', text)\n",
        "  return remove_stopwords(text)  "
      ],
      "metadata": {
        "id": "JLoc_nj33pBL"
      },
      "execution_count": 164,
      "outputs": []
    },
    {
      "cell_type": "code",
      "source": [
        "data[\"text\"]= data['text'].apply(word_cleaner)"
      ],
      "metadata": {
        "id": "IrxaiTEn43sc"
      },
      "execution_count": 165,
      "outputs": []
    },
    {
      "cell_type": "code",
      "source": [
        "x = data['text']\n",
        "y = data['class']"
      ],
      "metadata": {
        "id": "FouR6EHk6Q3M"
      },
      "execution_count": 166,
      "outputs": []
    },
    {
      "cell_type": "code",
      "source": [
        "x_train, x_test, y_train, y_test = train_test_split(x,y, test_size=0.25)"
      ],
      "metadata": {
        "id": "1Khpn_2Q6fXT"
      },
      "execution_count": 167,
      "outputs": []
    },
    {
      "cell_type": "code",
      "source": [
        "vector = TfidfVectorizer()\n",
        "xv_train = vector.fit_transform(x_train)\n",
        "xv_test = vector.transform(x_test)"
      ],
      "metadata": {
        "id": "qbgX5oQF7F19"
      },
      "execution_count": 168,
      "outputs": []
    },
    {
      "cell_type": "code",
      "source": [
        "LR = LogisticRegression()"
      ],
      "metadata": {
        "id": "V0Esql-47WCe"
      },
      "execution_count": 169,
      "outputs": []
    },
    {
      "cell_type": "code",
      "source": [
        "LR.fit(xv_train,y_train)"
      ],
      "metadata": {
        "colab": {
          "base_uri": "https://localhost:8080/",
          "height": 75
        },
        "id": "vDNSC6F3-gjY",
        "outputId": "46d2c359-cef6-4d05-8710-bee5f33175f8"
      },
      "execution_count": 170,
      "outputs": [
        {
          "output_type": "execute_result",
          "data": {
            "text/plain": [
              "LogisticRegression()"
            ],
            "text/html": [
              "<style>#sk-container-id-7 {color: black;background-color: white;}#sk-container-id-7 pre{padding: 0;}#sk-container-id-7 div.sk-toggleable {background-color: white;}#sk-container-id-7 label.sk-toggleable__label {cursor: pointer;display: block;width: 100%;margin-bottom: 0;padding: 0.3em;box-sizing: border-box;text-align: center;}#sk-container-id-7 label.sk-toggleable__label-arrow:before {content: \"▸\";float: left;margin-right: 0.25em;color: #696969;}#sk-container-id-7 label.sk-toggleable__label-arrow:hover:before {color: black;}#sk-container-id-7 div.sk-estimator:hover label.sk-toggleable__label-arrow:before {color: black;}#sk-container-id-7 div.sk-toggleable__content {max-height: 0;max-width: 0;overflow: hidden;text-align: left;background-color: #f0f8ff;}#sk-container-id-7 div.sk-toggleable__content pre {margin: 0.2em;color: black;border-radius: 0.25em;background-color: #f0f8ff;}#sk-container-id-7 input.sk-toggleable__control:checked~div.sk-toggleable__content {max-height: 200px;max-width: 100%;overflow: auto;}#sk-container-id-7 input.sk-toggleable__control:checked~label.sk-toggleable__label-arrow:before {content: \"▾\";}#sk-container-id-7 div.sk-estimator input.sk-toggleable__control:checked~label.sk-toggleable__label {background-color: #d4ebff;}#sk-container-id-7 div.sk-label input.sk-toggleable__control:checked~label.sk-toggleable__label {background-color: #d4ebff;}#sk-container-id-7 input.sk-hidden--visually {border: 0;clip: rect(1px 1px 1px 1px);clip: rect(1px, 1px, 1px, 1px);height: 1px;margin: -1px;overflow: hidden;padding: 0;position: absolute;width: 1px;}#sk-container-id-7 div.sk-estimator {font-family: monospace;background-color: #f0f8ff;border: 1px dotted black;border-radius: 0.25em;box-sizing: border-box;margin-bottom: 0.5em;}#sk-container-id-7 div.sk-estimator:hover {background-color: #d4ebff;}#sk-container-id-7 div.sk-parallel-item::after {content: \"\";width: 100%;border-bottom: 1px solid gray;flex-grow: 1;}#sk-container-id-7 div.sk-label:hover label.sk-toggleable__label {background-color: #d4ebff;}#sk-container-id-7 div.sk-serial::before {content: \"\";position: absolute;border-left: 1px solid gray;box-sizing: border-box;top: 0;bottom: 0;left: 50%;z-index: 0;}#sk-container-id-7 div.sk-serial {display: flex;flex-direction: column;align-items: center;background-color: white;padding-right: 0.2em;padding-left: 0.2em;position: relative;}#sk-container-id-7 div.sk-item {position: relative;z-index: 1;}#sk-container-id-7 div.sk-parallel {display: flex;align-items: stretch;justify-content: center;background-color: white;position: relative;}#sk-container-id-7 div.sk-item::before, #sk-container-id-7 div.sk-parallel-item::before {content: \"\";position: absolute;border-left: 1px solid gray;box-sizing: border-box;top: 0;bottom: 0;left: 50%;z-index: -1;}#sk-container-id-7 div.sk-parallel-item {display: flex;flex-direction: column;z-index: 1;position: relative;background-color: white;}#sk-container-id-7 div.sk-parallel-item:first-child::after {align-self: flex-end;width: 50%;}#sk-container-id-7 div.sk-parallel-item:last-child::after {align-self: flex-start;width: 50%;}#sk-container-id-7 div.sk-parallel-item:only-child::after {width: 0;}#sk-container-id-7 div.sk-dashed-wrapped {border: 1px dashed gray;margin: 0 0.4em 0.5em 0.4em;box-sizing: border-box;padding-bottom: 0.4em;background-color: white;}#sk-container-id-7 div.sk-label label {font-family: monospace;font-weight: bold;display: inline-block;line-height: 1.2em;}#sk-container-id-7 div.sk-label-container {text-align: center;}#sk-container-id-7 div.sk-container {/* jupyter's `normalize.less` sets `[hidden] { display: none; }` but bootstrap.min.css set `[hidden] { display: none !important; }` so we also need the `!important` here to be able to override the default hidden behavior on the sphinx rendered scikit-learn.org. See: https://github.com/scikit-learn/scikit-learn/issues/21755 */display: inline-block !important;position: relative;}#sk-container-id-7 div.sk-text-repr-fallback {display: none;}</style><div id=\"sk-container-id-7\" class=\"sk-top-container\"><div class=\"sk-text-repr-fallback\"><pre>LogisticRegression()</pre><b>In a Jupyter environment, please rerun this cell to show the HTML representation or trust the notebook. <br />On GitHub, the HTML representation is unable to render, please try loading this page with nbviewer.org.</b></div><div class=\"sk-container\" hidden><div class=\"sk-item\"><div class=\"sk-estimator sk-toggleable\"><input class=\"sk-toggleable__control sk-hidden--visually\" id=\"sk-estimator-id-7\" type=\"checkbox\" checked><label for=\"sk-estimator-id-7\" class=\"sk-toggleable__label sk-toggleable__label-arrow\">LogisticRegression</label><div class=\"sk-toggleable__content\"><pre>LogisticRegression()</pre></div></div></div></div></div>"
            ]
          },
          "metadata": {},
          "execution_count": 170
        }
      ]
    },
    {
      "cell_type": "code",
      "source": [
        "predicts = LR.predict(xv_test)\n",
        "LR.score(xv_test,y_test)\n",
        "print(classification_report(y_test,predicts))"
      ],
      "metadata": {
        "id": "MeAM-uR_71GZ"
      },
      "execution_count": null,
      "outputs": []
    },
    {
      "cell_type": "code",
      "source": [
        "def output(n):\n",
        "  if n==0:\n",
        "    return \"Fake New\"\n",
        "  elif n==1:\n",
        "    return \"True New\"\n",
        "\n",
        "def test(text):\n",
        "  test_new = {\"text\":[text]}\n",
        "  new_def = pd.DataFrame(test_new)\n",
        "  new_def[\"text\"] =new_def[\"text\"].apply(word_cleaner)\n",
        "  x_test = new_def[\"text\"]\n",
        "  x_test = vector.transform(x_test)\n",
        "  pred = LR.predict(x_test)\n",
        "  return output(pred[0])"
      ],
      "metadata": {
        "id": "E2RjJWMuB8Bx"
      },
      "execution_count": 172,
      "outputs": []
    },
    {
      "cell_type": "code",
      "source": [
        "new = \"\"\"Breaking News: Scientists Discover Ancient Civilization Underneath the Antarctic Ice\n",
        "\n",
        "In a stunning archaeological breakthrough, a team of international scientists has uncovered the remains of an ancient civilization buried deep beneath the icy plains of Antarctica. This groundbreaking discovery is set to challenge our understanding of human history and raise intriguing questions about the origins of civilization.\n",
        "\n",
        "The expedition, led by renowned archaeologist Dr. Elizabeth Morgan, embarked on an ambitious mission to explore the uncharted regions of Antarctica. Using cutting-edge satellite imaging technology, they identified a peculiar pattern of structures buried beneath layers of ice, hinting at the presence of a long-lost civilization.\n",
        "\n",
        "As the team carefully excavated the site, they uncovered a vast network of interconnected structures, resembling an advanced city. The architecture displayed remarkable precision and intricate designs, suggesting a highly skilled and technologically advanced society. The scientists were astounded by the sheer scale and complexity of the discovered structures.\n",
        "\n",
        "Further exploration of the ancient city revealed evidence of a sophisticated infrastructure system, including a complex network of underground tunnels. These tunnels, believed to have served various purposes such as transportation and communication, were a testament to the advanced engineering capabilities of this enigmatic civilization.\n",
        "\n",
        "The artifacts recovered from the excavation site provide intriguing insights into the lives of the ancient Antarctic inhabitants. Intricately carved statues, pottery adorned with intricate patterns, and remnants of advanced tools and machinery were among the findings. The level of craftsmanship displayed by these artifacts was unparalleled, hinting at a civilization far ahead of its time.\n",
        "\n",
        "Dr. Morgan and her team have tentatively dated the civilization to be over 10,000 years old, predating many known ancient civilizations by several millennia. This discovery challenges the conventional theories of human history and raises questions about the possibility of early transoceanic travel and cultural diffusion.\n",
        "\n",
        "The implications of this remarkable discovery extend beyond our understanding of human history. The advanced technologies and architectural achievements of this civilization may hold valuable lessons for our modern world. Scientists and historians are already speculating on the potential impact this finding could have on fields such as sustainable urban planning, engineering, and even space exploration.\n",
        "\n",
        "While the news of this extraordinary discovery has sparked excitement among the scientific community and the general public, experts urge caution and further investigation. Skeptics argue that the evidence presented needs to undergo rigorous scrutiny and peer review before definitive conclusions can be drawn.\n",
        "\n",
        "As the world eagerly awaits more information about this ancient Antarctic civilization, the team of researchers plans to continue their excavations and analysis. The findings have the potential to rewrite history books and provide new insights into the development of human civilization on Earth.\n",
        "\n",
        "Stay tuned for updates on this groundbreaking discovery as we delve deeper into the mysteries of this forgotten civilization beneath the icy continent of Antarctica.\"\"\""
      ],
      "metadata": {
        "id": "tjNtKvEmDewC"
      },
      "execution_count": 173,
      "outputs": []
    },
    {
      "cell_type": "code",
      "source": [
        "print(test(new))"
      ],
      "metadata": {
        "id": "Rk5tgfIZFdg4"
      },
      "execution_count": null,
      "outputs": []
    }
  ]
}
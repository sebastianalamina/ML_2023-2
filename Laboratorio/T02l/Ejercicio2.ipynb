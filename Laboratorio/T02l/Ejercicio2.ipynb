{
 "cells": [
  {
   "attachments": {},
   "cell_type": "markdown",
   "metadata": {},
   "source": [
    "# 2. \n",
    "**Con el mismo $k$ implementa K-Medoids. Úsalo para el mismo dataset (`datasetblow.csv`)**"
   ]
  },
  {
   "cell_type": "code",
   "execution_count": null,
   "metadata": {},
   "outputs": [],
   "source": [
    "import numpy as np\n",
    "import matplotlib.pyplot as plt\n",
    "import pandas as pd\n",
    "from scipy.spatial import Voronoi, voronoi_plot_2d"
   ]
  },
  {
   "attachments": {},
   "cell_type": "markdown",
   "metadata": {},
   "source": [
    "Se comienza por importar los datos del _dataset_"
   ]
  },
  {
   "cell_type": "code",
   "execution_count": null,
   "metadata": {},
   "outputs": [],
   "source": [
    "dataset = pd.read_csv('datablow.csv', index_col=0)\n",
    "dataset"
   ]
  },
  {
   "cell_type": "code",
   "execution_count": null,
   "metadata": {},
   "outputs": [],
   "source": [
    "dataset_x, dataset_y = dataset[\"0\"], dataset[\"1\"]\n",
    "dataset_fig, dataset_ax = plt.subplots()\n",
    "dataset_fig.set_size_inches(11, 8.5)\n",
    "dataset_ax.scatter(dataset_x, dataset_y)\n"
   ]
  },
  {
   "cell_type": "code",
   "execution_count": null,
   "metadata": {},
   "outputs": [],
   "source": [
    "dataset_points = np.array(list(zip(dataset_x, dataset_y)))\n",
    "dataset_points.shape"
   ]
  },
  {
   "attachments": {},
   "cell_type": "markdown",
   "metadata": {},
   "source": [
    "De igual manera se define $k$ como se definió en el primer ejercicio"
   ]
  },
  {
   "cell_type": "code",
   "execution_count": null,
   "metadata": {},
   "outputs": [],
   "source": [
    "K=3"
   ]
  },
  {
   "attachments": {},
   "cell_type": "markdown",
   "metadata": {},
   "source": [
    "Con tal de resaltar las diferencias entre K-Medoids y K-Means, se implementó un algoritmo generalizado para _clustering_ `clustering_algorithm` que depende de:\n",
    "* Una función de distancia\n",
    "* Una función para obtener el centro de un cluster a partir de los puntos actuales"
   ]
  },
  {
   "cell_type": "code",
   "execution_count": null,
   "metadata": {},
   "outputs": [],
   "source": [
    "def euclidean_distance(p1, p2):\n",
    "    return np.linalg.norm(p1 - p2)\n",
    "\n",
    "\n",
    "def assign_points_to_cluster(points, cluster_center_points):\n",
    "    cluster_point_lists = [[] for _ in range(len(cluster_center_points))]\n",
    "    points_cluster_indexes = np.zeros(len(points), dtype=int)\n",
    "    for i, p in enumerate(points):\n",
    "        closest_cluster_index = np.argmin(\n",
    "            [euclidean_distance(p, c) for c in cluster_center_points], axis=0\n",
    "        )\n",
    "        points_cluster_indexes[i] = closest_cluster_index\n",
    "        cluster_point_lists[closest_cluster_index].append(p)\n",
    "    return list(map(np.array, cluster_point_lists)), points_cluster_indexes\n",
    "\n",
    "\n",
    "def clustering_algorithm(\n",
    "    num_clusters,\n",
    "    points,\n",
    "    cluster_center_function,\n",
    "    seed=0,\n",
    "):\n",
    "    rng = np.random.default_rng(seed=seed)\n",
    "\n",
    "    # Se inicializan los centros aleatoriamente\n",
    "    cluster_center_points = points[\n",
    "        rng.choice(points.shape[0], num_clusters, replace=False), :\n",
    "    ]\n",
    "\n",
    "    # Se actualizan en un ciclo hasta que convergen\n",
    "    points_cluster_indexes = points_cluster_indexes_prev = None\n",
    "    converged = False\n",
    "    while not converged:\n",
    "        # Se asigna cada punto a un cluster\n",
    "        cluster_point_lists, points_cluster_indexes = assign_points_to_cluster(\n",
    "            points, cluster_center_points\n",
    "        )\n",
    "\n",
    "        # Se calculan los nuevos centros\n",
    "        for i in range(num_clusters):\n",
    "            cluster_center_points[i] = cluster_center_function(cluster_point_lists[i])\n",
    "\n",
    "        # Se revisa si hubo cambios en los centros\n",
    "        if (points_cluster_indexes is not None) and np.array_equal(\n",
    "            points_cluster_indexes, points_cluster_indexes_prev\n",
    "        ):\n",
    "            converged = True\n",
    "        else:\n",
    "            points_cluster_indexes_prev = points_cluster_indexes\n",
    "\n",
    "    return cluster_center_points, cluster_point_lists\n"
   ]
  },
  {
   "attachments": {},
   "cell_type": "markdown",
   "metadata": {},
   "source": [
    "Con el método anterior se pueden definir los algoritmos K-Means y K-Medoids."
   ]
  },
  {
   "cell_type": "code",
   "execution_count": null,
   "metadata": {},
   "outputs": [],
   "source": [
    "def get_cluster_centroid(cluster_points):\n",
    "    return np.mean(cluster_points, axis=0)\n",
    "\n",
    "\n",
    "def k_means(num_clusters, points, seed=0):\n",
    "    return clustering_algorithm(\n",
    "        num_clusters,\n",
    "        points,\n",
    "        cluster_center_function=get_cluster_centroid,\n",
    "        seed=seed,\n",
    "    )\n"
   ]
  },
  {
   "cell_type": "code",
   "execution_count": null,
   "metadata": {},
   "outputs": [],
   "source": [
    "def get_cluster_medoid(cluster_points):\n",
    "    centroid = get_cluster_centroid(cluster_points)\n",
    "    closest_point_index = np.argmin(\n",
    "        [euclidean_distance(p, centroid) for p in cluster_points], axis=0\n",
    "    )  # Se encuentra el índice del punto más cercano al centroide dentro del cluster\n",
    "    return cluster_points[closest_point_index]\n",
    "\n",
    "\n",
    "def k_medoids(num_clusters, points, seed=0):\n",
    "    return clustering_algorithm(\n",
    "        num_clusters,\n",
    "        points,\n",
    "        cluster_center_function=get_cluster_medoid,\n",
    "        seed=seed,\n",
    "    )\n"
   ]
  },
  {
   "attachments": {},
   "cell_type": "markdown",
   "metadata": {},
   "source": [
    "## (a)\n",
    "**Comprueba que los centroides pertenecen al dataset**"
   ]
  },
  {
   "attachments": {},
   "cell_type": "markdown",
   "metadata": {},
   "source": [
    "Habiendo implementado K-Medoids, se aplica el algoritmo a nuestros datos y se verifica que los _medoids_ obtenidos forman parte del _dataset_."
   ]
  },
  {
   "cell_type": "code",
   "execution_count": null,
   "metadata": {},
   "outputs": [],
   "source": [
    "cluster_medoids, cluster_medoids_points_lists = k_medoids(K, dataset_points)\n",
    "for m in cluster_medoids:\n",
    "    print(f\"({m[0]:.3f}, {m[1]:.3f}) in dataset points? {m in dataset_points}\")"
   ]
  },
  {
   "attachments": {},
   "cell_type": "markdown",
   "metadata": {},
   "source": [
    "Mientras tanto, se puede notar que esto no es el caso con los centroides que se obtienen al utilizar K-Means."
   ]
  },
  {
   "cell_type": "code",
   "execution_count": null,
   "metadata": {},
   "outputs": [],
   "source": [
    "cluster_centroids, cluster_centroids_points_lists = k_means(K, dataset_points)\n",
    "for m in cluster_centroids:\n",
    "    print(f\"({m[0]:.3f}, {m[1]:.3f}) in dataset points? {m in dataset_points}\")"
   ]
  },
  {
   "attachments": {},
   "cell_type": "markdown",
   "metadata": {},
   "source": [
    "Se observa que los resultados de ambos algoritmos no son exactamente iguales."
   ]
  },
  {
   "cell_type": "code",
   "execution_count": null,
   "metadata": {},
   "outputs": [],
   "source": [
    "fig_compare, ax_compare = plt.subplots()\n",
    "fig_compare.set_size_inches(11, 8.5)\n",
    "ax_compare.scatter(dataset_x, dataset_y, label=\"Dataset points\")\n",
    "ax_compare.scatter(\n",
    "    [m[0] for m in cluster_medoids],\n",
    "    [m[1] for m in cluster_medoids],\n",
    "    label=\"Cluster medoids\",\n",
    ")\n",
    "ax_compare.scatter(\n",
    "    [c[0] for c in cluster_centroids],\n",
    "    [c[1] for c in cluster_centroids],\n",
    "    label=\"Cluster centroids\",\n",
    ")\n",
    "ax_compare.legend()\n"
   ]
  },
  {
   "attachments": {},
   "cell_type": "markdown",
   "metadata": {},
   "source": [
    "## (b)\n",
    "**Genera el diagrama de Voronoi generado por los centroides**"
   ]
  },
  {
   "attachments": {},
   "cell_type": "markdown",
   "metadata": {},
   "source": [
    "Se hizo un método para generar gráficas con los resultados de los algoritmos de _clustering_ junto a los diagramas de Voronoi inducidos."
   ]
  },
  {
   "cell_type": "code",
   "execution_count": null,
   "metadata": {},
   "outputs": [],
   "source": [
    "color_series = [(\"#F2D7D5\", \"#C0392B\"), (\"#EBDEF0\", \"#9B59B6\"), (\"#D4E6F1\", \"#2980B9\")]\n",
    "\n",
    "\n",
    "def plot_clustering_results(cluster_centers, cluster_points_lists, padding):\n",
    "    # Se genera diagrama de voronoi\n",
    "    voronoi = Voronoi(cluster_centers)\n",
    "\n",
    "    # Se crean vectores por coordenadas con los puntos de los clusters\n",
    "    cluster_points_x = [[] for _ in range(len(cluster_centers))]\n",
    "    cluster_points_y = [[] for _ in range(len(cluster_centers))]\n",
    "    for i, cpl in enumerate(cluster_points_lists):\n",
    "        cluster_points_x[i] += [p[0] for p in cpl]\n",
    "        cluster_points_y[i] += [p[1] for p in cpl]\n",
    "\n",
    "    # Se calculan los límites de la imagen\n",
    "    min_x = min([min(c) for c in cluster_points_x])\n",
    "    max_x = max([max(c) for c in cluster_points_x])\n",
    "    min_y = min([min(c) for c in cluster_points_y])\n",
    "    max_y = max([max(c) for c in cluster_points_y])\n",
    "\n",
    "    # Se crean una figura y unos ejes para graficar\n",
    "    fig, ax = plt.subplots()\n",
    "    fig.set_size_inches(11, 8.5)\n",
    "\n",
    "    # Se grafica cada cluster\n",
    "    for i, c in enumerate(cluster_centers):\n",
    "        ax.scatter(\n",
    "            cluster_points_x[i],\n",
    "            cluster_points_y[i],\n",
    "            label=f\"Cluster {i} points\",\n",
    "            c=color_series[i % len(color_series)][0],\n",
    "        )\n",
    "\n",
    "        ax.scatter(\n",
    "            c[0],\n",
    "            c[1],\n",
    "            label=f\"Cluster {i} origin\",\n",
    "            c=color_series[i % len(color_series)][1],\n",
    "        )\n",
    "\n",
    "    # Se grafican las fronteras del diagrama de voronoi\n",
    "    voronoi_plot_2d(voronoi, ax, show_vertices=False, show_points=False)\n",
    "    ax.set_xlim(min_x - padding, max_x + padding)\n",
    "    ax.set_ylim(min_y - padding, max_y + padding)\n",
    "\n",
    "    ax.legend()\n",
    "\n",
    "    return fig, ax\n"
   ]
  },
  {
   "attachments": {},
   "cell_type": "markdown",
   "metadata": {},
   "source": [
    "Diagrama de Voronoi para los centroides generados por K-Medoids:"
   ]
  },
  {
   "cell_type": "code",
   "execution_count": null,
   "metadata": {},
   "outputs": [],
   "source": [
    "plot_clustering_results(cluster_medoids, cluster_medoids_points_lists, padding=.1)"
   ]
  },
  {
   "attachments": {},
   "cell_type": "markdown",
   "metadata": {},
   "source": [
    "Diagrama de Voronoi para los centroides generados por K-Means:"
   ]
  },
  {
   "cell_type": "code",
   "execution_count": null,
   "metadata": {},
   "outputs": [],
   "source": [
    "plot_clustering_results(cluster_centroids, cluster_centroids_points_lists, padding=.1)"
   ]
  }
 ],
 "metadata": {
  "kernelspec": {
   "display_name": "mypython3",
   "language": "python",
   "name": "python3"
  },
  "language_info": {
   "codemirror_mode": {
    "name": "ipython",
    "version": 3
   },
   "file_extension": ".py",
   "mimetype": "text/x-python",
   "name": "python",
   "nbconvert_exporter": "python",
   "pygments_lexer": "ipython3",
   "version": "3.8.10"
  },
  "orig_nbformat": 4
 },
 "nbformat": 4,
 "nbformat_minor": 2
}

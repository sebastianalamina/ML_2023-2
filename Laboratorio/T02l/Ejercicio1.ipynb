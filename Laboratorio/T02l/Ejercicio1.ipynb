{
  "cells": [
    {
      "cell_type": "markdown",
      "metadata": {
        "id": "nJekOY9f2YX-"
      },
      "source": [
        "# 1. \n",
        "\n",
        "**Usando K-Means y el datasetblow.csv desarrolla.**"
      ]
    },
    {
      "cell_type": "code",
      "execution_count": 1,
      "metadata": {
        "id": "UvSt88_1MZ-R"
      },
      "outputs": [],
      "source": [
        "import numpy as np\n",
        "import matplotlib.pyplot as plt\n",
        "import pandas as pd\n",
        "from scipy.spatial import Voronoi, voronoi_plot_2d"
      ]
    },
    {
      "cell_type": "markdown",
      "metadata": {
        "id": "sCfDHAk73EKY"
      },
      "source": [
        "Primero definimos una función para procesar el dataset propuesto."
      ]
    },
    {
      "cell_type": "code",
      "execution_count": 107,
      "metadata": {
        "id": "53ugPXV4tJkw"
      },
      "outputs": [],
      "source": [
        "def load_dataset(file, plot= False):\n",
        "  '''Carga un data set con puntos para K-means\n",
        "\n",
        "  returns:\n",
        "    - np.array con los puntos obtenidos\n",
        "    - coordenadas x, y\n",
        "  '''\n",
        "  data = pd.read_csv(file, index_col= 0)                # Lee el archivo csv\n",
        "  data_x, data_y = data['0'], data['1']                 # Separa las coordenadas del punto\n",
        "  dataset_points = np.array(list(zip(data_x, data_y)))  # Agrupa las coordenadas como un `np.array` de puntos\n",
        "  \n",
        "  # Grafica los puntos obtenidos\n",
        "  if plot:\n",
        "    fig, ax = plt.subplots()\n",
        "    ax.scatter(data_x, data_y)\n",
        "\n",
        "  return dataset_points, data_x, data_y"
      ]
    },
    {
      "cell_type": "markdown",
      "metadata": {
        "id": "hsBGRJKS3bOD"
      },
      "source": [
        "Vizualizamos los datos obtenidos."
      ]
    },
    {
      "cell_type": "code",
      "execution_count": null,
      "metadata": {
        "colab": {
          "base_uri": "https://localhost:8080/",
          "height": 430
        },
        "id": "j4oTGP2-1omo",
        "outputId": "00f1b4c8-2d03-4358-85dd-752ca098447f"
      },
      "outputs": [],
      "source": [
        "points, x, y = load_dataset('datablow.csv', plot= True)"
      ]
    },
    {
      "cell_type": "markdown",
      "metadata": {
        "id": "JDeSl-qD3gRM"
      },
      "source": [
        "#### **(a)** Para $k = 2,\\ ...\\, 16$. Calcula el $WCSS$ para cada $k$ y gráfica los $WCSS$ de cada $k$ en una gráfica de lineas.\n",
        "$$\n",
        "  WCSS = \\sum_{P_i \\in Cluster_1}distance(P_i,\\ C1)^2\\ + \\sum_{P_i \\in Cluster_2}distance(P_i,\\ C2)^2\\ + ⋯ + \\sum_{P_i \\in Cluster_l}distance(P_i,\\ Cl)^2\n",
        "$$"
      ]
    },
    {
      "cell_type": "markdown",
      "metadata": {
        "id": "b9JxNchH93we"
      },
      "source": [
        "Tenemos la siguiente implementación del algoritmo _K-means_ que está basada en la implementación vista en clase."
      ]
    },
    {
      "cell_type": "code",
      "execution_count": 109,
      "metadata": {
        "id": "7KsHavBB7NI-"
      },
      "outputs": [],
      "source": [
        "def euclidean_distance(p1, p2):\n",
        "   '''Calcula la distancia euclideana\n",
        "   '''\n",
        "   return np.linalg.norm(p1 - p2)\n",
        "\n",
        "\n",
        "def assign_points_to_cluster(points, cluster_center_points):\n",
        "    '''Asigna los puntos a los clusters  \n",
        "    \n",
        "    Args:\n",
        "      points    (`np.array`): Los puntos (x, y)  \n",
        "      centroids (`np.array`): Los centroides (x,y)\n",
        "\n",
        "    Returns:\n",
        "      (`list`, `np.array`): la asignacion correspondiente de cada punto a su cluster\n",
        "    '''\n",
        "    cluster_point_lists = [[] for _ in range(len(cluster_center_points))]\n",
        "    points_cluster_indexes = np.zeros(len(points), dtype=int)\n",
        "    \n",
        "    for i, p in enumerate(points):\n",
        "        closest_cluster_index = np.argmin(\n",
        "            [euclidean_distance(p, c) for c in cluster_center_points], axis=0\n",
        "        )\n",
        "        points_cluster_indexes[i] = closest_cluster_index\n",
        "        cluster_point_lists[closest_cluster_index].append(p)\n",
        "    \n",
        "    return list(map(np.array, cluster_point_lists)), points_cluster_indexes\n",
        "\n",
        "\n",
        "def k_means(num_clusters, points, seed=0):\n",
        "    '''Ejecuta el algoritmo **K-means**  \n",
        "\n",
        "    Args:\n",
        "      k (int): El numero de clusters  \n",
        "      points (`np.array`): Los puntos\n",
        "\n",
        "    Returns:\n",
        "      centroids        (`np.array`): Los centroides de cada cluster\n",
        "      cluster_points_lists (`list`): Los puntos por cluster\n",
        "      wcss     (float): El valor de **within-cluster sum of the square**\n",
        "      frobenius (list): El valor del calculo de la Norma de Frobenius para cada iteracion\n",
        "    '''\n",
        "    rng = np.random.default_rng(seed=seed)\n",
        "\n",
        "    # Se inicializan los centros aleatoriamente\n",
        "    centroids = points[\n",
        "        rng.choice(points.shape[0], num_clusters, replace=False), :\n",
        "    ]\n",
        "\n",
        "    frobenius = []  # Lista para ir almacenando los valores de la Norma de Frobenius\n",
        "\n",
        "    # Se actualizan en un ciclo hasta que convergen\n",
        "    points_cluster_indexes = points_cluster_indexes_prev = None\n",
        "    converged = False\n",
        "    while not converged:\n",
        "        # Se asigna cada punto a un cluster\n",
        "        cluster_point_lists, points_cluster_indexes = assign_points_to_cluster(\n",
        "            points, centroids\n",
        "        )\n",
        "\n",
        "        # Guardamos una copia de los centroides (para Frobenius)\n",
        "        cent_copy = centroids.copy()\n",
        "        \n",
        "        # Se calculan los nuevos centros\n",
        "        for i in range(num_clusters):\n",
        "            centroids[i] = np.mean(cluster_point_lists[i], axis= 0)\n",
        "\n",
        "        # Calculamos la Norma de Frobenius y guardamos en la lista\n",
        "        frobenius_norm = np.linalg.norm(cent_copy - np.array(centroids))\n",
        "        frobenius.append(frobenius_norm)\n",
        "\n",
        "        # Se revisa si hubo cambios en los centros\n",
        "        if (points_cluster_indexes is not None) and np.array_equal(\n",
        "            points_cluster_indexes, points_cluster_indexes_prev\n",
        "        ):\n",
        "            converged = True\n",
        "        else:\n",
        "            points_cluster_indexes_prev = points_cluster_indexes\n",
        "\n",
        "    # Calculamos el WCSS\n",
        "    wcss = 0.0\n",
        "    for i in range(num_clusters):\n",
        "        cluster_points = cluster_point_lists[i]\n",
        "        cluster_center = np.mean(cluster_points, axis= 0)\n",
        "        wcss += np.sum(np.square(np.linalg.norm(cluster_points - cluster_center, axis=1)))\n",
        "\n",
        "    return centroids, cluster_point_lists, wcss, frobenius"
      ]
    },
    {
      "cell_type": "markdown",
      "metadata": {
        "id": "_n8_nGGq5SHJ"
      },
      "source": [
        "Ahora ejecutamos `k_means` para $k = 1,\\ ...,\\ 16$ y vamos guardando el valor de $WCSS$ para cada uno."
      ]
    },
    {
      "cell_type": "code",
      "execution_count": 110,
      "metadata": {
        "id": "Ur71NiG-7pcF"
      },
      "outputs": [],
      "source": [
        "wcss = []\n",
        "for i in range(1, 17):\n",
        "  K = i\n",
        "  _, _, within_cluster_ss, _ = k_means(K, points)\n",
        "  wcss.append(within_cluster_ss)"
      ]
    },
    {
      "cell_type": "markdown",
      "metadata": {
        "id": "FOySkxaO5k6a"
      },
      "source": [
        "Con el arreglo obtenido, graficamos."
      ]
    },
    {
      "cell_type": "code",
      "execution_count": null,
      "metadata": {
        "colab": {
          "base_uri": "https://localhost:8080/",
          "height": 472
        },
        "id": "frdkUjUeAaCs",
        "outputId": "9453ec30-6c02-4d8e-82b9-3a398f110845"
      },
      "outputs": [],
      "source": [
        "plt.plot(range(1, 17), wcss)\n",
        "plt.title('Método del codo')\n",
        "plt.xlabel('Clusters')\n",
        "plt.ylabel('WCSS')\n",
        "plt.show()"
      ]
    },
    {
      "cell_type": "markdown",
      "metadata": {
        "id": "woyjUpfszCvO"
      },
      "source": [
        "#### **(b)** Usando la gráfica anterior justifica que valor de k sería \"óptimo\"  el criterio del \"codo\" y gráfica su Diagrama de Voronoid Generado por los centroides de dicho $k$."
      ]
    },
    {
      "cell_type": "markdown",
      "metadata": {
        "id": "apSMyGyoTVpK"
      },
      "source": [
        "De la gráfica obtenida en el punto anterior, vemos que el valor \"óptimo\" para $k$ es 4. \n",
        "\n",
        "Ahora, el código para obtener el diagrama de Voronoi generado por los centroides se presenta a continuación:"
      ]
    },
    {
      "cell_type": "code",
      "execution_count": 112,
      "metadata": {
        "id": "I5134faWYSsW"
      },
      "outputs": [],
      "source": [
        "color_series = [(\"#F2D7D5\", \"#C0392B\"), (\"#EBDEF0\", \"#9B59B6\"), (\"#D4E6F1\", \"#2980B9\"), ('#A7BCA7', '#4F7A4E')]\n",
        "\n",
        "\n",
        "def plot_clustering_results(cluster_centers, cluster_points_lists, padding):\n",
        "    # Se genera diagrama de voronoi\n",
        "    voronoi = Voronoi(cluster_centers)\n",
        "\n",
        "    # Se crean vectores por coordenadas con los puntos de los clusters\n",
        "    cluster_points_x = [[] for _ in range(len(cluster_centers))]\n",
        "    cluster_points_y = [[] for _ in range(len(cluster_centers))]\n",
        "    for i, cpl in enumerate(cluster_points_lists):\n",
        "        cluster_points_x[i] += [p[0] for p in cpl]\n",
        "        cluster_points_y[i] += [p[1] for p in cpl]\n",
        "\n",
        "    # Se calculan los límites de la imagen\n",
        "    min_x = min([min(c) for c in cluster_points_x])\n",
        "    max_x = max([max(c) for c in cluster_points_x])\n",
        "    min_y = min([min(c) for c in cluster_points_y])\n",
        "    max_y = max([max(c) for c in cluster_points_y])\n",
        "\n",
        "    # Se crean una figura y unos ejes para graficar\n",
        "    fig, ax = plt.subplots()\n",
        "    fig.set_size_inches(11, 8.5)\n",
        "\n",
        "    # Se grafica cada cluster\n",
        "    for i, c in enumerate(cluster_centers):\n",
        "        ax.scatter(\n",
        "            cluster_points_x[i],\n",
        "            cluster_points_y[i],\n",
        "            #label=f\"Cluster {i} points\",\n",
        "            c=color_series[i % len(color_series)][0],\n",
        "        )\n",
        "\n",
        "        ax.scatter(\n",
        "            c[0],\n",
        "            c[1],\n",
        "            label=f\"Cluster {i + 1} centroide\",\n",
        "            c=color_series[i % len(color_series)][1],\n",
        "        )\n",
        "\n",
        "    # Se grafican las fronteras del diagrama de voronoi\n",
        "    voronoi_plot_2d(voronoi, ax, show_vertices=False, show_points=False)\n",
        "    ax.set_xlim(min_x - padding, max_x + padding)\n",
        "    ax.set_ylim(min_y - padding, max_y + padding)\n",
        "\n",
        "    ax.legend()\n",
        "\n",
        "    return fig, ax"
      ]
    },
    {
      "cell_type": "markdown",
      "metadata": {
        "id": "x7KAknJ11uwK"
      },
      "source": [
        "Una vez deinido lo anterior, ejecutamos `k_means` para $k = 4$, obtenemos los puntos de los centroides y los pasamos como argumentos a la función. Entonces, tenemos que el Diagrama de Voronoi queda como sigue:\n"
      ]
    },
    {
      "cell_type": "code",
      "execution_count": null,
      "metadata": {
        "colab": {
          "base_uri": "https://localhost:8080/",
          "height": 732
        },
        "id": "AsZ89Px1YatG",
        "outputId": "89f6a9e8-7691-46a9-9994-266292d9ec68"
      },
      "outputs": [],
      "source": [
        "centroids, points_lists, _, frobenius = k_means(4, points)\n",
        "plot_clustering_results(centroids, points_lists, padding=.1)"
      ]
    },
    {
      "cell_type": "markdown",
      "metadata": {
        "id": "8cYdAiE3zn9j"
      },
      "source": [
        "#### **(c)** Gráfica el comportamiento de la tolerancia relativa, i.e., la _Norma de Frobenius_ de la diferencia de los centroides como matriz para cada iteración."
      ]
    },
    {
      "cell_type": "markdown",
      "metadata": {
        "id": "X51yDocc0I0p"
      },
      "source": [
        "Como en cada iteración del algoritmo vamos calculando la _Norma de Frobenius_ y al final de la ejecución quedamos con un arreglo que contiene todos los resultados, entonces nada más hace falta graficarlo para observar el comportamiento en cada iteración.  \n",
        "\n",
        "A continuación se presenta la gráfica obtenida:"
      ]
    },
    {
      "cell_type": "code",
      "execution_count": null,
      "metadata": {
        "colab": {
          "base_uri": "https://localhost:8080/",
          "height": 489
        },
        "id": "gc1CjxGEocQS",
        "outputId": "46a797ba-cd13-4e86-88bf-3938bf8aa821"
      },
      "outputs": [],
      "source": [
        "plt.plot(range(1, len(frobenius) + 1), frobenius)\n",
        "plt.title('Norma de Frobenius en cada iteración')\n",
        "plt.xlabel('Iteración')\n",
        "plt.ylabel('Norma de Frobenius')\n",
        "plt.show()\n",
        "\n",
        "print(frobenius)"
      ]
    }
  ],
  "metadata": {
    "colab": {
      "provenance": []
    },
    "kernelspec": {
      "display_name": "Python 3",
      "name": "python3"
    },
    "language_info": {
      "name": "python"
    }
  },
  "nbformat": 4,
  "nbformat_minor": 0
}

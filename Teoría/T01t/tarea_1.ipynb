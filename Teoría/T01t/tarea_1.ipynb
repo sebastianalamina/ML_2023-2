{
 "cells": [
  {
   "cell_type": "code",
   "execution_count": null,
   "metadata": {
    "id": "dq9VqiyOrd7L"
   },
   "outputs": [],
   "source": [
    "import pandas as pd\n",
    "import numpy as np\n",
    "\n",
    "from scipy.stats import binom\n",
    "\n",
    "import matplotlib.pyplot as plt\n",
    "from matplotlib import style\n",
    "import seaborn as sns\n",
    "\n",
    "from scipy.stats import pearsonr\n",
    "from sklearn.linear_model import LinearRegression\n",
    "from sklearn.model_selection import train_test_split\n",
    "from sklearn.metrics import r2_score\n",
    "from sklearn.metrics import mean_squared_error\n",
    "import statsmodels.api as sm\n",
    "import statsmodels.formula.api as smf\n",
    "from scipy.stats import shapiro\n",
    "from sklearn.datasets import load_iris\n",
    "\n",
    "# 2.4\n",
    "from sklearn.preprocessing import StandardScaler\n",
    "from sklearn.pipeline import make_pipeline\n",
    "from sklearn.svm import SVC\n",
    "from sklearn.metrics import confusion_matrix\n",
    "from sklearn.metrics import classification_report"
   ]
  },
  {
   "cell_type": "markdown",
   "metadata": {
    "id": "iaOpQdhmZcsO"
   },
   "source": [
    "# Reconocimiento de Patrones y Aprendizaje Automatizado\n",
    "\n",
    "## [Teoría] Tarea 1\n",
    "\n",
    "- 421023697 - Alex Nakamura Díaz Francés\n",
    "- 420003708 - David Hernández Uriostegui\n",
    "- 420003007 - Diego Javier Padilla Lara\n",
    "- 318163790 - Erick Daniel Arroyo Martínez\n",
    "- 318685496 - Sebastián Alamina Ramírez"
   ]
  },
  {
   "cell_type": "markdown",
   "metadata": {
    "id": "fNNTMlbSX2kh"
   },
   "source": [
    "## 2. Probabilidad y estadística"
   ]
  },
  {
   "cell_type": "markdown",
   "metadata": {
    "id": "Rc6eofbUYBYu"
   },
   "source": [
    "### 1.\n",
    "Considera la variable aleatoria $X\\sim B(n, p)$ con una población de $n=100$ y con $p=0.08$ (y por lo tanto $q=0.92$) ¿Cuál es la probabilidad asociada para todos los valores entre 5.5 y 8?"
   ]
  },
  {
   "cell_type": "code",
   "execution_count": null,
   "metadata": {
    "id": "u9SdvFBvmkS_"
   },
   "outputs": [],
   "source": [
    "n = 100\n",
    "p = 0.08"
   ]
  },
  {
   "cell_type": "markdown",
   "metadata": {
    "id": "PxHVMKBkmmJs"
   },
   "source": [
    "Buscamos encontrar $P(5.5\\leq X\\leq 8)$, o bien, $\\sum_{i=6}^{8}P(X=i)$. Lo anterior se puede hacer de varias maneras:"
   ]
  },
  {
   "cell_type": "markdown",
   "metadata": {
    "id": "nesnFCbJmn7T"
   },
   "source": [
    "Manera 1: Usando la función de distribución de probabilidad (CDF) y `scipy.stats.binom`\n",
    "\n",
    "$$P(5.5\\leq X\\leq 8) = P(X\\leq 8)-P(X\\leq 5)$$"
   ]
  },
  {
   "cell_type": "code",
   "execution_count": null,
   "metadata": {
    "colab": {
     "base_uri": "https://localhost:8080/"
    },
    "executionInfo": {
     "elapsed": 141,
     "status": "ok",
     "timestamp": 1678671313904,
     "user": {
      "displayName": "Alex Nakamura Díaz Francés",
      "userId": "13520896220034131487"
     },
     "user_tz": 360
    },
    "id": "FvbByOWVmplW",
    "outputId": "e2ade7db-b163-43de-8567-7c52af027449"
   },
   "outputs": [],
   "source": [
    "print(\n",
    "    \"La probabilidad buscada, calculada usando la función de distribución, es:\",\n",
    "    binom.cdf(8, n, p) - binom.cdf(5.5, n, p),\n",
    ")\n"
   ]
  },
  {
   "cell_type": "markdown",
   "metadata": {
    "id": "hew1o_nwmsGy"
   },
   "source": [
    "Manera 2: Usando la función de masa (PMF) y `scipy.stats.binom`\n",
    "$$P(5.5\\leq X\\leq 8) = P(X=6)+P(X=7)+P(X=8)$$"
   ]
  },
  {
   "cell_type": "code",
   "execution_count": null,
   "metadata": {
    "colab": {
     "base_uri": "https://localhost:8080/"
    },
    "executionInfo": {
     "elapsed": 131,
     "status": "ok",
     "timestamp": 1678671318696,
     "user": {
      "displayName": "Alex Nakamura Díaz Francés",
      "userId": "13520896220034131487"
     },
     "user_tz": 360
    },
    "id": "4KhdOV1rmt0i",
    "outputId": "fabc546a-6b57-45d0-ae6a-baa3c28607b7"
   },
   "outputs": [],
   "source": [
    "print(\n",
    "    \"La probabilidad buscada, calculada usando la función de masa, es:\",\n",
    "    sum(binom.pmf(i, n, p) for i in range(6, 8 + 1)),\n",
    ")"
   ]
  },
  {
   "cell_type": "markdown",
   "metadata": {
    "id": "Vf1Aig3pmvPT"
   },
   "source": [
    "Manera 3: Usando la expresión de la función de masa $P(X=i) = \\binom{n}{x} p^i q^{(n-i)}$"
   ]
  },
  {
   "cell_type": "code",
   "execution_count": null,
   "metadata": {
    "colab": {
     "base_uri": "https://localhost:8080/"
    },
    "executionInfo": {
     "elapsed": 127,
     "status": "ok",
     "timestamp": 1678671337056,
     "user": {
      "displayName": "Alex Nakamura Díaz Francés",
      "userId": "13520896220034131487"
     },
     "user_tz": 360
    },
    "id": "_m6vAF9qmwoS",
    "outputId": "58737f3a-918d-4554-ff73-76a12a1d40af"
   },
   "outputs": [],
   "source": [
    "print(\n",
    "    \"La probabilidad buscada, calculada usando expresión de la función de masa, es:\",\n",
    "    sum(\n",
    "        np.math.comb(n, i) * np.power(p, i) * np.power(1 - p, n - i)\n",
    "        for i in range(6, 8 + 1)\n",
    "    ),\n",
    ")\n"
   ]
  },
  {
   "cell_type": "markdown",
   "metadata": {
    "id": "gQ4K4UdxYDdt"
   },
   "source": [
    "### 2.\n",
    "Considera la v.a. continua $X$ con función de densidad como se muestra a continuación:\n",
    "\n",
    "$f(x) = \\begin{cases}\n",
    "  2x & \\text{si}\\ 0 < x < 1 \\\\\n",
    "  0 & \\text{en otro caso}\n",
    "\\end{cases}$\n",
    "\n",
    "¿Cuál es la esperanza de $X$?"
   ]
  },
  {
   "cell_type": "markdown",
   "metadata": {
    "id": "P2ptZ9b8N2yh"
   },
   "source": [
    "**Solución**: Por definición, $E(Z) = \\int_∞^∞ zf(z)\\ dz$.\n",
    "\n",
    "Entonces:\n",
    "\n",
    "$\\begin{align*} \n",
    "E(X) &= \\int_{-∞}^0 x \\cdot 0\\ dx + \\int_0^1 x \\cdot 2x + \\int_1^∞ x \\cdot 0\\ dx \\\\\n",
    "&= \\int_0^1 2x^2\\ dx \\\\\n",
    "&= \\frac{2}{3}x^3 + C\\ \\big|_0^1 \\\\\n",
    "&= (\\frac{2}{3} \\cdot 1^3 + C)-(\\frac{2}{3} \\cdot 0^3 + C) \\\\\n",
    "&= \\frac{2}{3}\n",
    "\\end{align*}$"
   ]
  },
  {
   "cell_type": "markdown",
   "metadata": {
    "id": "34eJiq-3YEd8"
   },
   "source": [
    "### 3.\n",
    "Implementa una función que tome un arreglo de vectores `x` y regrese dos conjuntos ajenos denominados `x_train` y `x_test`. Los parámetros que debe tomar esta función es un iterable con los vectores a separar así como un escalar `p` que indique la proporción de datos que quedará en el primer conjunto. \n",
    "\n",
    "Debe regresar dos iterables donde el primer conjunto tiene la proporción `p` de `x` y el segundo (1-`p`) de `x`."
   ]
  },
  {
   "cell_type": "code",
   "execution_count": null,
   "metadata": {
    "id": "wmd9NTIlnCU3"
   },
   "outputs": [],
   "source": [
    "def repartidor(x, p=0.5, seed=0):\n",
    "    rng = np.random.default_rng(seed=seed)\n",
    "\n",
    "    n1 = int(p * len(x))\n",
    "\n",
    "    indexes1 = set(rng.choice(range(len(x)), n1, replace=False))\n",
    "    x_train, x_test = [], []\n",
    "    for i, e in enumerate(x):\n",
    "        if i in indexes1:\n",
    "            x_train.append(e)\n",
    "        else:\n",
    "            x_test.append(e)\n",
    "    return x_train, x_test\n"
   ]
  },
  {
   "cell_type": "markdown",
   "metadata": {
    "id": "U3yu2GCCnJSh"
   },
   "source": [
    "Ejemplo:"
   ]
  },
  {
   "cell_type": "code",
   "execution_count": null,
   "metadata": {
    "colab": {
     "base_uri": "https://localhost:8080/"
    },
    "executionInfo": {
     "elapsed": 99,
     "status": "ok",
     "timestamp": 1678671425560,
     "user": {
      "displayName": "Alex Nakamura Díaz Francés",
      "userId": "13520896220034131487"
     },
     "user_tz": 360
    },
    "id": "y8-aTKlQnHSS",
    "outputId": "06fa6275-3f41-4748-efa9-1cdf0356aa8f"
   },
   "outputs": [],
   "source": [
    "x = [0, 2, 3, 4, 1, 8]\n",
    "x_tr, x_ts = repartidor(x, 0.5, seed=11)\n",
    "assert len(x_tr) == len(x) // 2\n",
    "assert len(set(x_tr).intersection(set(x_ts))) == 0\n",
    "print(x_tr, x_ts)"
   ]
  },
  {
   "cell_type": "markdown",
   "metadata": {
    "id": "N94a9xmLYFou"
   },
   "source": [
    "### 4.\n",
    "Usando el conjunto de datos de *IRIS*, haz lo siguiente usando el modelo de predicción que desees (e.g. modelo lineal, logístico, soporte vectorial, etc.)\n",
    "- Determina y explica todas las métricas que pueden ser calculadas por medio de la matriz de confusión.\n",
    "- Grafica la matriz de confusión y explica los valores graficados."
   ]
  },
  {
   "cell_type": "code",
   "execution_count": null,
   "metadata": {
    "id": "eYI1NG7PrtRH"
   },
   "outputs": [],
   "source": [
    "from sklearn import datasets\n",
    "\n",
    "# Load the dataset\n",
    "iris = datasets.load_iris()\n",
    "X = iris.data\n",
    "y = iris.target\n",
    "\n",
    "# Create the training and test split\n",
    "X_train, X_test, y_train, y_test = train_test_split(X, y , test_size = 0.25 , random_state = 1, stratify = y)\n",
    "\n",
    "# Create a pipeline with scaling and SV classification\n",
    "pipe = make_pipeline(StandardScaler(), SVC())\n",
    "\n",
    "# Train\n",
    "pipe.fit(X_train, y_train)\n",
    "\n",
    "# Predict\n",
    "y_pred = pipe.predict(X_test)\n",
    "\n",
    "# Create the confusion matrix\n",
    "cm = confusion_matrix(y_test, y_pred)"
   ]
  },
  {
   "cell_type": "markdown",
   "metadata": {
    "id": "hK0JQZQ-CIXk"
   },
   "source": [
    "A continuación se presenta la *matriz de confusión* generada a partir del modelo de predicción *soporte vectorial* (`SVC`), la cuál nos muestra el número de **TP**, **FP**, **TN** y **FN** para cada clase del dataset *IRIS*:\n",
    "- *setosa*\n",
    "- *versicolor*\n",
    "- *virginica*."
   ]
  },
  {
   "cell_type": "code",
   "execution_count": null,
   "metadata": {
    "colab": {
     "base_uri": "https://localhost:8080/",
     "height": 295
    },
    "executionInfo": {
     "elapsed": 751,
     "status": "ok",
     "timestamp": 1678764762331,
     "user": {
      "displayName": "Diego Javier Padilla Lara",
      "userId": "13584697860156475815"
     },
     "user_tz": 360
    },
    "id": "dsbyRiYKB3sj",
    "outputId": "e77f3fb2-a2c2-4d8d-b4bb-a0adea8f434e"
   },
   "outputs": [],
   "source": [
    "# Display confusion matrix\n",
    "plt.imshow(cm, cmap='Blues')\n",
    "plt.title('Confusion matrix')\n",
    "plt.colorbar()\n",
    "plt.xticks([0, 1, 2], ['setosa', 'versicolor', 'virginica'])\n",
    "plt.yticks([0, 1, 2], ['setosa', 'versicolor', 'virginica'])\n",
    "plt.xlabel('Predicted')\n",
    "plt.ylabel('Actual')\n",
    "plt.show()"
   ]
  },
  {
   "cell_type": "markdown",
   "metadata": {
    "id": "5gZHDM285BXp"
   },
   "source": [
    "Gracias a la **matriz de confusión** nos es posible calcular métricas como:\n",
    "- *Accuracy*. Que es la proporción de instancias que fueron clasificadas correctamente. Calculada como:\n",
    "$$\\frac{TP + TN}{PF+ TP + TN + FN}$$\n",
    "\n",
    "- *Precision*. Se trata del ratio de verdaderos positivos respecto a las que son clasificadas (predecidas) como positivas. Se calcula de la siguiente manera:\n",
    "$$\\frac{TP}{TP + FP}$$\n",
    "\n",
    "- *Recall*. También se le conoce como *sensitivity*, es la proporción de positivos verdaderos correctamente identificados. Calculada como:\n",
    "$$\\frac{TP}{TP + FN}$$\n",
    "\n",
    "- *F1-Score*. Que es la media armónica de *precision* y *recall*. \n",
    "$$2 \\times \\frac{precision \\times recall}{precision\\ +\\ recall}$$\n",
    "\n",
    "\n",
    "Haciendo uso de la función `classification_report`, que es parte de `sklearn.metris` podemos obtener las métricas mencionadas:"
   ]
  },
  {
   "cell_type": "code",
   "execution_count": null,
   "metadata": {
    "colab": {
     "base_uri": "https://localhost:8080/"
    },
    "executionInfo": {
     "elapsed": 154,
     "status": "ok",
     "timestamp": 1678764766585,
     "user": {
      "displayName": "Diego Javier Padilla Lara",
      "userId": "13584697860156475815"
     },
     "user_tz": 360
    },
    "id": "sw6V-WQr2FkK",
    "outputId": "9c85cce2-6aa2-43ca-967a-b91dd36908f0"
   },
   "outputs": [],
   "source": [
    "print(classification_report(y_test, y_pred))"
   ]
  },
  {
   "cell_type": "markdown",
   "metadata": {
    "id": "X9N4owZ9X9WT"
   },
   "source": [
    "## 3. Regresión Lineal"
   ]
  },
  {
   "cell_type": "code",
   "execution_count": null,
   "metadata": {
    "id": "4PcXGnrluYFK"
   },
   "outputs": [],
   "source": [
    "X, y = load_iris(return_X_y=True, as_frame=True)\n",
    "data_iris = np.c_[X, y]\n",
    "columns = list(X.columns)\n",
    "columns.append(\"Species\")\n",
    "iris_df = pd.DataFrame(data=data_iris, columns=columns)"
   ]
  },
  {
   "cell_type": "code",
   "execution_count": null,
   "metadata": {
    "id": "QKibqri6Vp86"
   },
   "outputs": [],
   "source": [
    "iris_df['Species'] = iris_df['Species'].astype(np.int64)"
   ]
  },
  {
   "cell_type": "code",
   "execution_count": null,
   "metadata": {
    "colab": {
     "base_uri": "https://localhost:8080/",
     "height": 363
    },
    "executionInfo": {
     "elapsed": 166,
     "status": "ok",
     "timestamp": 1678668197744,
     "user": {
      "displayName": "David Hérnandez Uriostegui",
      "userId": "07647648730634080745"
     },
     "user_tz": 360
    },
    "id": "9qbth3-quftr",
    "outputId": "d86b96f2-ab01-4da6-da1b-b2ebfacf6e28"
   },
   "outputs": [],
   "source": [
    "iris_df.head(10)"
   ]
  },
  {
   "cell_type": "code",
   "execution_count": null,
   "metadata": {
    "colab": {
     "base_uri": "https://localhost:8080/"
    },
    "executionInfo": {
     "elapsed": 106,
     "status": "ok",
     "timestamp": 1678750558732,
     "user": {
      "displayName": "David Hérnandez Uriostegui",
      "userId": "07647648730634080745"
     },
     "user_tz": 360
    },
    "id": "CC_x98JeumJH",
    "outputId": "758aaf8c-5f4d-429d-8f0a-0080ef3249af"
   },
   "outputs": [],
   "source": [
    "iris_df.info()"
   ]
  },
  {
   "cell_type": "code",
   "execution_count": null,
   "metadata": {
    "id": "aXb2mOT7vqfP"
   },
   "outputs": [],
   "source": [
    "def analyze(corr_mat):\n",
    "    '''\n",
    "    Función para convertir una matriz de correlación de pandas en formato tidy\n",
    "    '''\n",
    "    corr_mat = corr_mat.stack().reset_index()\n",
    "    corr_mat.columns = ['variable_1','variable_2','r']\n",
    "    corr_mat = corr_mat.loc[corr_mat['variable_1'] != corr_mat['variable_2'], :]\n",
    "    corr_mat['abs_r'] = np.abs(corr_mat['r'])\n",
    "    corr_mat = corr_mat.sort_values('abs_r', ascending=False)\n",
    "    return corr_mat"
   ]
  },
  {
   "cell_type": "code",
   "execution_count": null,
   "metadata": {
    "id": "u-QPNYtqStDH"
   },
   "outputs": [],
   "source": [
    "corr_matrix = iris_df.select_dtypes(include=['float64', 'int']).corr(method='pearson')"
   ]
  },
  {
   "cell_type": "code",
   "execution_count": null,
   "metadata": {
    "colab": {
     "base_uri": "https://localhost:8080/",
     "height": 677
    },
    "executionInfo": {
     "elapsed": 134,
     "status": "ok",
     "timestamp": 1678750565735,
     "user": {
      "displayName": "David Hérnandez Uriostegui",
      "userId": "07647648730634080745"
     },
     "user_tz": 360
    },
    "id": "Ys3fBsSbSyB3",
    "outputId": "a4eb3178-f357-46f8-bdb3-ecdcbad1593e"
   },
   "outputs": [],
   "source": [
    "analyze(corr_matrix)"
   ]
  },
  {
   "cell_type": "code",
   "execution_count": null,
   "metadata": {
    "colab": {
     "base_uri": "https://localhost:8080/",
     "height": 324
    },
    "executionInfo": {
     "elapsed": 592,
     "status": "ok",
     "timestamp": 1678750569259,
     "user": {
      "displayName": "David Hérnandez Uriostegui",
      "userId": "07647648730634080745"
     },
     "user_tz": 360
    },
    "id": "fLE9WRD7dtjF",
    "outputId": "bfaa6d23-7a4f-40b7-8d57-1d992ed227eb"
   },
   "outputs": [],
   "source": [
    "fig, ax = plt.subplots(nrows=1, ncols=1, figsize=(4, 4))\n",
    "\n",
    "sns.heatmap(\n",
    "    corr_matrix,\n",
    "    annot     = True,\n",
    "    cbar      = False,\n",
    "    annot_kws = {\"size\": 8},\n",
    "    vmin      = -1,\n",
    "    vmax      = 1,\n",
    "    center    = 0,\n",
    "    cmap      = sns.diverging_palette(20, 220, n=200),\n",
    "    square    = True,\n",
    "    ax        = ax\n",
    ")\n",
    "\n",
    "ax.set_xticklabels(\n",
    "    ax.get_xticklabels(),\n",
    "    rotation = 45,\n",
    "    horizontalalignment = 'right',\n",
    ")\n",
    "\n",
    "ax.tick_params(labelsize = 10)"
   ]
  },
  {
   "cell_type": "code",
   "execution_count": null,
   "metadata": {
    "colab": {
     "base_uri": "https://localhost:8080/",
     "height": 373
    },
    "executionInfo": {
     "elapsed": 1794,
     "status": "ok",
     "timestamp": 1678750573203,
     "user": {
      "displayName": "David Hérnandez Uriostegui",
      "userId": "07647648730634080745"
     },
     "user_tz": 360
    },
    "id": "mc7Hsdk6eadZ",
    "outputId": "c7b71427-9455-4857-e076-7fb1b5db539d"
   },
   "outputs": [],
   "source": [
    "fig, axes = plt.subplots(nrows=3, ncols=2, figsize=(9, 5))\n",
    "axes = axes.flat\n",
    "columnas_numeric = iris_df.select_dtypes(include=['float64', 'int']).columns\n",
    "\n",
    "for i, colum in enumerate(columnas_numeric):\n",
    "    sns.histplot(\n",
    "        data    = iris_df,\n",
    "        x       = colum,\n",
    "        stat    = \"count\",\n",
    "        kde     = True,\n",
    "        color   = (list(plt.rcParams['axes.prop_cycle'])*2)[i][\"color\"],\n",
    "        line_kws= {'linewidth': 2},\n",
    "        alpha   = 0.3,\n",
    "        ax      = axes[i]\n",
    "    )\n",
    "    axes[i].set_title(colum, fontsize = 10, fontweight = \"bold\")\n",
    "    axes[i].tick_params(labelsize = 8)\n",
    "    axes[i].set_xlabel(\"\")\n",
    "\n",
    "\n",
    "    \n",
    "fig.tight_layout()\n",
    "plt.subplots_adjust(top = 0.9)\n",
    "fig.suptitle('Distribución variables numéricas', fontsize = 10, fontweight = \"bold\");"
   ]
  },
  {
   "cell_type": "markdown",
   "metadata": {
    "id": "uvBPh8V3MKNE"
   },
   "source": [
    "### 1\n",
    "Al graficar individualmenre el histograma de frecuencias de cada variablw, podemos observar lo siguiente\n",
    "\n",
    "\n",
    "1.   **sepal length (cm)**\n",
    "\n",
    "     Parece que esta variable sigue el compartamineto de una distribución Gaussiana\n",
    "\n",
    "2.   **sepal width (cm)**\n",
    "\n",
    "    Esta de igual manera parece tener un comportamiento Guassiano\n",
    "\n",
    "3. **petal length (cm)**\n",
    "\n",
    "  Al observar con algo de detalle, la curva que se genera tiene simulitud a una distribución bimodal\n",
    "\n",
    "4. **petal wifth (cm)**\n",
    "\n",
    "  Tiene el mismo comportamiento que *petal length (cm)*\n"
   ]
  },
  {
   "cell_type": "code",
   "execution_count": null,
   "metadata": {
    "id": "Y0Pie9BhhaGZ"
   },
   "outputs": [],
   "source": [
    "X = iris_df[X.columns]\n",
    "y = iris_df['Species']\n",
    "\n",
    "X_train, X_test, y_train, y_test = train_test_split(\n",
    "                                        X,\n",
    "                                        y.values.reshape(-1,1),\n",
    "                                        train_size   = 0.7,\n",
    "                                        shuffle      = True\n",
    "                                    )"
   ]
  },
  {
   "cell_type": "code",
   "execution_count": null,
   "metadata": {
    "colab": {
     "base_uri": "https://localhost:8080/"
    },
    "executionInfo": {
     "elapsed": 518,
     "status": "ok",
     "timestamp": 1678750586048,
     "user": {
      "displayName": "David Hérnandez Uriostegui",
      "userId": "07647648730634080745"
     },
     "user_tz": 360
    },
    "id": "-cBYDvhIhi57",
    "outputId": "58fde12a-b664-4bec-c88b-f7e5e8600011"
   },
   "outputs": [],
   "source": [
    "X_train = sm.add_constant(X_train, prepend=True)\n",
    "modelo = sm.OLS(endog=y_train, exog=X_train,)\n",
    "modelo = modelo.fit()\n",
    "print(modelo.summary())"
   ]
  },
  {
   "cell_type": "markdown",
   "metadata": {
    "id": "twFuwf0mWJwJ"
   },
   "source": [
    "### 2\n",
    "\n",
    "Los coeficientes $\\beta$ son los siguientes:\n",
    "1.   *sepal length (cm)* : -0.1191\n",
    "2.   *sepal width (cm)* : -0.0560\n",
    "3.   *petal length (cm)* : 0.2396\n",
    "4.   *petal width (cm)* : 0.5861\n",
    "\n",
    "Y tenemos que\n",
    "\n",
    "$$R^2 = 0.938$$\n",
    "\n",
    "\n",
    "\n",
    "* El estadístico $F$ del modelo es 380,4 con un valor $p$ muy pequeño: $1,53^{-59}$, lo que indica que el modelo en su conjunto es estadísticamente significativo.\n",
    "\n",
    "\n",
    "* Ahora podemos ver que para ambas variables de *sepal* su valor $p$ es menor a 0.05, lo cual significa que podemos precindir de ellas\n"
   ]
  },
  {
   "cell_type": "markdown",
   "metadata": {
    "id": "wvodFqgLbJPR"
   },
   "source": [
    "### 3\n",
    "**Skewness**: Es una medida estadística que describe la simetría de la distribución alrededor de un promedio. Por lo tanto, sí el sesgo es igual a cero, entonces la distribución es simetrica. En otro caso, si su valor es positivo o negativo, entnces existirá una asimétria extendida respectiva al valor del sesgo. \n",
    "\n",
    "A efectos de esta interpretación, podríamos decir que esta medida no tiene mucha interpretación para este modelo. Sin embargo, la regresión lineal supone que los residuos se distribuyen normalmente. Entonces, notemos que la interpretación de esta medida depende de lo que esté sesgado y del tipo de modelo de regresión con la que estemos trabajando.\n",
    "Por tanto, para el modelo OLS, podemos decir que estos *(sesgos)* no asumen nada sobre la forma de las variables, pues este modelo hace suposiciones sobre la distribución de los residuos. En general, OLS modela la media, y cmo sabemos, esta no es una buena medida de la tendencia central en una distribución sesgada.\n",
    "\n",
    "Para el valor obtenido anteriormente *(Skew: -0.103)* podemos decir que hay un sesgo negativo en los datos.\n",
    "\n",
    "**Kurtosis**: Es una medida estadística que describe el apuntamiento o achatamiento de una cierta distribución con respecto a alguna distribución normal. Por tanto, la kurtosis positiva indica una distribución relativamente apuntada, y la negativa indica una distribución relativamente achatada.\n",
    "\n",
    "Para hacer esta iterpretación, primero recordemos que la Kurtosis es también conocida como *medida de apuntamiento*, lo que es parecido a una distribución de frecuencias sobre un area centralizada. Por tanto, podemos ver que esta medida se comporta como una distribución normal. Por tanto, hagamos nuestra interpretación sobre la siguiente premisa, **los OLS se distribuyen normalmente en un modelo de regresión lineal**. Entonces, si consideramos que el término de residuo en un modelo de regresión lineal se distribuye normalmente. Entonces implica que el modelo OLS también se distribuyen de forma normal. \n",
    "Podríamos hacer un análisis mayor sobre la definición de la variable dependiente **Y**, tal que, la suposición de que el término de residuo en un modelo de regresión lineal se distribuye normalmente. Entonces implica que el modelo OLS también se distribuyen análogamente.\n",
    "Por lo tanto, dado que la Kurtosis se comporta como una distribución normal con colas, y el modelo OLS se distribuye de forma normal, entonces es posible interpretar la Kurtosis como una forma de análisar la distribución de dicho modelo.\n",
    "\n",
    "Para los datos obtenidos *(Kurtosis: 3.033)* podemos decir que dado que el valor es mayor a tres, entonces es leptocúrtica, i.e., que produce valores atípicos en lugar de una distribución normal.\n",
    "\n",
    "**Omnibus**: Es un test estadístico que prueba la significancia de varios parámetros en un modelo a la vez.\n",
    "\n",
    "Para esta interpretación, recordemos que este test nos permite explorar las diferencias de significación entre bloques de variables independientes o sus coeficientes en una regresión. Como podemos ver en los puntos anteriores, este test precisa su análisis sobre la relación general entre la varianza de los parámetros, con respecto a la igualdad entre k desviaciones estándar o con respecto a los coeficientes β , tal que, k es el número de visualizaciones.\n",
    "Ahora, para interpretar los resultados obtenidos en los puntos anteriores, podemos decir lo siguiente:\n",
    "Para prob(Omnibus) = 0,836, lo que indica que hay un 83,6% de probabilidad de que los residuos se distribuyan normalmente.\n",
    "Además, esperamos ver algo cercano a 1 aquí. En este caso, Omnibus es respectivamente bajo y Prob(Omnibus) es respectivamente alto. Por lo tanto, podemos considerar como  **normales** los datos.\n",
    "\n",
    "**Durbin-Watson**: Es una prueba estadística que se utiliza para detectar la presencia de autocorrelación en los residuos (errores de predicción) de un análisis de regresión.\n",
    "Para el valor obtenido, podemos decir que, bajo las pruebas de homocedasticidad. Esperamos tener un valor entre 1 y 2. En este caso, los datos son cercanos, pero salen de los límites, pues obtuvimos *(Durbin-Watson = 2.101)*.\n",
    "Por tanto, como tenemos 2.101, y dado que esto está dentro del rango de 1.5 y 2.5, consideraríamos que la autocorrelación no es problemática en este modelo de regresión."
   ]
  },
  {
   "cell_type": "markdown",
   "metadata": {
    "id": "K3a4-P9zkO26"
   },
   "source": [
    "Podemos hacer un *drop out* de \n",
    "\n",
    "```\n",
    "- sepal length (cm)\n",
    "- sepal width (cm)\n",
    "```\n",
    "\n"
   ]
  },
  {
   "cell_type": "code",
   "execution_count": null,
   "metadata": {
    "colab": {
     "base_uri": "https://localhost:8080/"
    },
    "executionInfo": {
     "elapsed": 116,
     "status": "ok",
     "timestamp": 1678750612402,
     "user": {
      "displayName": "David Hérnandez Uriostegui",
      "userId": "07647648730634080745"
     },
     "user_tz": 360
    },
    "id": "zJpY1tNvkgLE",
    "outputId": "d57862ad-baae-4900-97cf-b8521f486c7e"
   },
   "outputs": [],
   "source": [
    "X_train = X_train.drop(columns = ['sepal length (cm)', 'sepal width (cm)'])\n",
    "X_test  = X_test.drop(columns = ['sepal length (cm)', 'sepal width (cm)'])\n",
    "\n",
    "# A la matriz de predictores se le tiene que añadir una columna de 1s para el\n",
    "# intercept del modelo\n",
    "X_train = sm.add_constant(X_train, prepend=True)\n",
    "modelo  = sm.OLS(endog=y_train, exog=X_train,)\n",
    "modelo  = modelo.fit()\n",
    "print(modelo.summary())"
   ]
  },
  {
   "cell_type": "markdown",
   "metadata": {
    "id": "tcRlDWoOc936"
   },
   "source": [
    "### 4\n",
    "\n",
    "En comparación con el primer modelo, el segundo modelo sólo incluye las variables que toman en cuenta las medidas de los petalos y tiene un valor R-cuadrado un poco más chico (por 0.006).\n",
    "\n",
    "\\\\\n",
    "Además, los coeficientes de las variables longitud y anchura del pétalo son positivos y estadísticamente significativos, lo que sugiere que tienen un efecto positivo sobre la variable que queremos predecir (\"Species\"), mientras que el término constante es negativo y también estadísticamente significativo. En cambio, los coeficientes de las variables de longitud y anchura de los sépalos en el primer no son estadísticamente significativos, lo que indica que no tienen un impacto significativo en la variable objetivo. \n",
    "\n",
    "\\\\\n",
    "\n",
    "\n",
    "$\\therefore$ Es probable que el segundo modelo sea mejor para predecir la especie de iris basándose en las variables dadas."
   ]
  },
  {
   "cell_type": "code",
   "execution_count": null,
   "metadata": {
    "id": "GBqbKkhLlQ02"
   },
   "outputs": [],
   "source": [
    "y_test = y_test.flatten()\n",
    "X_test = sm.add_constant(X_test, prepend=True)\n",
    "prediccion_train = modelo.predict(exog = X_test)\n",
    "residuos_train   = prediccion_train - y_test"
   ]
  },
  {
   "cell_type": "code",
   "execution_count": null,
   "metadata": {
    "colab": {
     "base_uri": "https://localhost:8080/",
     "height": 277
    },
    "executionInfo": {
     "elapsed": 387,
     "status": "ok",
     "timestamp": 1678751610128,
     "user": {
      "displayName": "David Hérnandez Uriostegui",
      "userId": "07647648730634080745"
     },
     "user_tz": 360
    },
    "id": "1Md8gl4WlTX1",
    "outputId": "79c8b52b-4f02-42a6-9d79-951239de899c"
   },
   "outputs": [],
   "source": [
    "plt.scatter(prediccion_train, residuos_train,edgecolors=(0, 0, 0), alpha = 0.4)\n",
    "plt.axhline(y = 0, linestyle = '--', color = 'black', lw=2)\n",
    "plt.xlabel('Predicción')\n",
    "plt.ylabel('Residuo')\n",
    "plt.tick_params(labelsize = 7)"
   ]
  }
 ],
 "metadata": {
  "colab": {
   "collapsed_sections": [
    "uvBPh8V3MKNE"
   ],
   "provenance": []
  },
  "kernelspec": {
   "display_name": "Python 3",
   "name": "python3"
  },
  "language_info": {
   "name": "python"
  }
 },
 "nbformat": 4,
 "nbformat_minor": 0
}
